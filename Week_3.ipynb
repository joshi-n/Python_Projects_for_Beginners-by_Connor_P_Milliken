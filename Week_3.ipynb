{
 "cells": [
  {
   "cell_type": "markdown",
   "metadata": {},
   "source": [
    "# User Input & Type Converting"
   ]
  },
  {
   "cell_type": "code",
   "execution_count": 1,
   "metadata": {},
   "outputs": [
    {
     "name": "stdout",
     "output_type": "stream",
     "text": [
      "Football is my favorite sport\n"
     ]
    }
   ],
   "source": [
    "element = 'Football'\n",
    "print('{} is my favorite sport'.format(element))"
   ]
  },
  {
   "cell_type": "markdown",
   "metadata": {},
   "source": [
    "User input & type converting\n"
   ]
  },
  {
   "cell_type": "code",
   "execution_count": 2,
   "metadata": {},
   "outputs": [
    {
     "name": "stdout",
     "output_type": "stream",
     "text": [
      "What is your name? Nishchay\n",
      "Nishchay\n"
     ]
    }
   ],
   "source": [
    "print(input(\"What is your name? \"))"
   ]
  },
  {
   "cell_type": "code",
   "execution_count": 3,
   "metadata": {},
   "outputs": [
    {
     "name": "stdout",
     "output_type": "stream",
     "text": [
      "What is your name? Nishchay\n",
      "Hello Nishchay\n"
     ]
    }
   ],
   "source": [
    "ans = input(\"What is your name? \")\n",
    "print(f\"Hello {ans}\")"
   ]
  },
  {
   "cell_type": "code",
   "execution_count": 4,
   "metadata": {},
   "outputs": [
    {
     "name": "stdout",
     "output_type": "stream",
     "text": [
      "<class 'str'>\n"
     ]
    }
   ],
   "source": [
    "num = \"9\"\n",
    "print(type(num))"
   ]
  },
  {
   "cell_type": "code",
   "execution_count": 5,
   "metadata": {},
   "outputs": [
    {
     "name": "stdout",
     "output_type": "stream",
     "text": [
      "<class 'int'>\n"
     ]
    }
   ],
   "source": [
    "num = int(num)\n",
    "print(type(num))"
   ]
  },
  {
   "cell_type": "code",
   "execution_count": 6,
   "metadata": {},
   "outputs": [
    {
     "name": "stdout",
     "output_type": "stream",
     "text": [
      "type a number to add \t10\n",
      "100 + 10 = 110\n"
     ]
    }
   ],
   "source": [
    "# working with user input to perform calculations\n",
    "ans = input(\"type a number to add \\t\")\n",
    "result = 100 + int(ans)\n",
    "print(f\"100 + {ans} = {result}\")"
   ]
  },
  {
   "cell_type": "code",
   "execution_count": 7,
   "metadata": {},
   "outputs": [
    {
     "name": "stdout",
     "output_type": "stream",
     "text": [
      "type a number to add \t9\n",
      "100 + 9.0 = 109.0\n"
     ]
    }
   ],
   "source": [
    "# using the try and except blocks, use tab to indent where necessary\n",
    "try:\n",
    "    ans = float(input(\"type a number to add \\t\"))\n",
    "    result = 100 + ans\n",
    "    print(f\"100 + {ans} = {result}\")\n",
    "except:\n",
    "    print(\"You did not put in a valid number!\")"
   ]
  },
  {
   "cell_type": "markdown",
   "metadata": {},
   "source": [
    "# Monday Exercise"
   ]
  },
  {
   "cell_type": "code",
   "execution_count": 8,
   "metadata": {},
   "outputs": [
    {
     "name": "stdout",
     "output_type": "stream",
     "text": [
      "<class 'str'>\n",
      "<class 'bool'>\n"
     ]
    }
   ],
   "source": [
    "x = \"True\"\n",
    "print(type(x))\n",
    "x= bool(x)\n",
    "print(type(x))"
   ]
  },
  {
   "cell_type": "code",
   "execution_count": 9,
   "metadata": {},
   "outputs": [
    {
     "name": "stdout",
     "output_type": "stream",
     "text": [
      "Input first number:5\n",
      "Input second number:7\n",
      "First number + second number = 12.0\n"
     ]
    }
   ],
   "source": [
    "try:\n",
    "    first = input(\"Input first number:\")\n",
    "    second = input(\"Input second number:\")\n",
    "    ans = float(first) + float(second)\n",
    "    print(f\"First number + second number = {ans}\")\n",
    "except:\n",
    "    print(\"Dont fuck with me!!\")"
   ]
  },
  {
   "cell_type": "code",
   "execution_count": 10,
   "metadata": {
    "scrolled": true
   },
   "outputs": [
    {
     "name": "stdout",
     "output_type": "stream",
     "text": [
      "Enter your car details below-\n",
      "Please enter the year:2016\n",
      "Please enter the maker:Hyundai\n",
      "Please enter the model:Creta\n",
      "Please enter the color:Silver\n",
      "\n",
      "2016 Hyundai Creta Silver\n"
     ]
    }
   ],
   "source": [
    "try:\n",
    "    print(\"Enter your car details below-\")\n",
    "    year = input(\"Please enter the year:\")\n",
    "    make = input(\"Please enter the maker:\")\n",
    "    model = input(\"Please enter the model:\")\n",
    "    color = input(\"Please enter the color:\")\n",
    "    year = int(year)\n",
    "    print(f\"\\n{year} {make} {model} {color}\")\n",
    "except:\n",
    "    print(\"\\nEnter valid details!!\")"
   ]
  },
  {
   "cell_type": "markdown",
   "metadata": {},
   "source": [
    "# If Statements\n"
   ]
  },
  {
   "cell_type": "code",
   "execution_count": 11,
   "metadata": {},
   "outputs": [
    {
     "name": "stdout",
     "output_type": "stream",
     "text": [
      "x is less than y\n"
     ]
    }
   ],
   "source": [
    "x,y = 1,10\n",
    "if x<y:\n",
    "    print(\"x is less than y\")"
   ]
  },
  {
   "cell_type": "code",
   "execution_count": 12,
   "metadata": {},
   "outputs": [
    {
     "name": "stdout",
     "output_type": "stream",
     "text": [
      "What is 10+10?\t3\n",
      "Try again!\n"
     ]
    }
   ],
   "source": [
    "try:\n",
    "    ans = int(input(\"What is 10+10?\\t\"))\n",
    "    if ans == 20:\n",
    "        print(\"correct!\")\n",
    "    else:\n",
    "        print(\"Try again!\")\n",
    "except:\n",
    "    print(\"Please enter a valid number!\")"
   ]
  },
  {
   "cell_type": "code",
   "execution_count": 13,
   "metadata": {},
   "outputs": [
    {
     "name": "stdout",
     "output_type": "stream",
     "text": [
      "Both statements were true\n"
     ]
    }
   ],
   "source": [
    "# using the keyword 'and' in an 'if statement'\n",
    "x, y, z = 5, 10, 5\n",
    "if x < y and x == z:\n",
    "    print(\"Both statements were true\")"
   ]
  },
  {
   "cell_type": "code",
   "execution_count": 14,
   "metadata": {},
   "outputs": [
    {
     "name": "stdout",
     "output_type": "stream",
     "text": [
      "One or both statements were true\n"
     ]
    }
   ],
   "source": [
    "# using the keyword 'or' in an 'if statement'\n",
    "x, y, z = 5, 10, 5\n",
    "if x < y or x != z:\n",
    "    print(\"One or both statements were true\")"
   ]
  },
  {
   "cell_type": "code",
   "execution_count": 15,
   "metadata": {
    "scrolled": true
   },
   "outputs": [
    {
     "name": "stdout",
     "output_type": "stream",
     "text": [
      "Flag is False\n"
     ]
    }
   ],
   "source": [
    "# using the keyword 'not' within an 'if statement'\n",
    "flag = False\n",
    "if not flag: # same as saying if not true\n",
    "    print(\"Flag is False\")"
   ]
  },
  {
   "cell_type": "markdown",
   "metadata": {},
   "source": [
    "# Tuesday Exercise"
   ]
  },
  {
   "cell_type": "code",
   "execution_count": 43,
   "metadata": {},
   "outputs": [
    {
     "name": "stdout",
     "output_type": "stream",
     "text": [
      "Please input a word: nope\n",
      "Your word does not include \"es\"\n"
     ]
    }
   ],
   "source": [
    "ans = input('Please input a word: ')\n",
    "\n",
    "if 'es' in ans:\n",
    "    print('Your word includes \"es\"')\n",
    "elif 'es' not in ans:\n",
    "    print('Your word does not include \"es\"')"
   ]
  },
  {
   "cell_type": "code",
   "execution_count": 45,
   "metadata": {},
   "outputs": [
    {
     "name": "stdout",
     "output_type": "stream",
     "text": [
      "Please input a word: ends\n",
      "Your word does not end with \"ing\"\n"
     ]
    }
   ],
   "source": [
    "ans = input('Please input a word: ')\n",
    "\n",
    "if 'ing' in ans[-3:]:\n",
    "    print('Your word ends with \"ing\"')\n",
    "elif 'ing' not in ans[-3:]:\n",
    "    print('Your word does not end with \"ing\"')"
   ]
  },
  {
   "cell_type": "code",
   "execution_count": 47,
   "metadata": {},
   "outputs": [
    {
     "name": "stdout",
     "output_type": "stream",
     "text": [
      "Please input a word: happy\n",
      "Please input a second word: happy\n",
      "You input the same word!\n"
     ]
    }
   ],
   "source": [
    "word1 = input('Please input a word: ')\n",
    "word2 = input('Please input a second word: ')\n",
    "\n",
    "if word1.lower() == word2.lower():\n",
    "    print('You input the same word!')\n",
    "elif word1.lower() != word2.lower():\n",
    "    print('The words you input are different.')"
   ]
  },
  {
   "cell_type": "code",
   "execution_count": 48,
   "metadata": {
    "scrolled": true
   },
   "outputs": [
    {
     "name": "stdout",
     "output_type": "stream",
     "text": [
      "Please input a number: 5\n",
      "You're number is lower than 10, so here is the result squared: \n",
      "25.0\n"
     ]
    }
   ],
   "source": [
    "num = float(input('Please input a number: '))\n",
    "\n",
    "if num < 10:\n",
    "    print('You\\'re number is lower than 10, so here is the result squared: ')\n",
    "    result = num**2\n",
    "    print(result)"
   ]
  },
  {
   "cell_type": "markdown",
   "metadata": {},
   "source": [
    "# Elif Statements"
   ]
  },
  {
   "cell_type": "code",
   "execution_count": 16,
   "metadata": {},
   "outputs": [
    {
     "name": "stdout",
     "output_type": "stream",
     "text": [
      "x is less\n"
     ]
    }
   ],
   "source": [
    "# using the elif conditional statement\n",
    "\n",
    "x, y = 5, 10\n",
    "\n",
    "if x > y:\n",
    "    print('x is greater')\n",
    "elif x < y:\n",
    "    print('x is less')"
   ]
  },
  {
   "cell_type": "code",
   "execution_count": 17,
   "metadata": {},
   "outputs": [
    {
     "name": "stdout",
     "output_type": "stream",
     "text": [
      "equal\n"
     ]
    }
   ],
   "source": [
    "# checking more than one elif conditional statement\n",
    "\n",
    "x, y = 5, 10\n",
    "\n",
    "if x > y:\n",
    "    print('x is greater')\n",
    "elif (x + 10) < y:\n",
    "    print('x is less')\n",
    "elif (x + 5) == y:\n",
    "    print('equal')"
   ]
  },
  {
   "cell_type": "code",
   "execution_count": 18,
   "metadata": {},
   "outputs": [
    {
     "name": "stdout",
     "output_type": "stream",
     "text": [
      "x is equal to z\n"
     ]
    }
   ],
   "source": [
    "# writing multiple conditionals within each other - multiple block levels\n",
    "\n",
    "x, y, z = 5, 10, 5\n",
    "\n",
    "if x > y:\n",
    "    print('greater')\n",
    "elif x <= y:\n",
    "    if x == z:\n",
    "        print('x is equal to z')         \n",
    "    elif x != z:\n",
    "        print('x is not equal to z')   "
   ]
  },
  {
   "cell_type": "code",
   "execution_count": 19,
   "metadata": {},
   "outputs": [
    {
     "name": "stdout",
     "output_type": "stream",
     "text": [
      "x is less\n",
      "x is equal\n"
     ]
    }
   ],
   "source": [
    "# testing output of two if statements in a row that are both true\n",
    "\n",
    "x, y, z = 5, 10, 5\n",
    "\n",
    "if x < y:\n",
    "    print('x is less')\n",
    "\n",
    "if x == z:\n",
    "    print('x is equal')"
   ]
  },
  {
   "cell_type": "code",
   "execution_count": 20,
   "metadata": {
    "scrolled": true
   },
   "outputs": [
    {
     "name": "stdout",
     "output_type": "stream",
     "text": [
      "x is less\n"
     ]
    }
   ],
   "source": [
    "# testing output of an if and elif statement that are both true\n",
    "\n",
    "x, y, z = 5, 10, 5\n",
    "\n",
    "if x < y:\n",
    "    print('x is less')\n",
    "elif x == z:\n",
    "    print('x is equal to z')"
   ]
  },
  {
   "cell_type": "markdown",
   "metadata": {},
   "source": [
    "# Wednesday Exercis"
   ]
  },
  {
   "cell_type": "code",
   "execution_count": 1,
   "metadata": {},
   "outputs": [
    {
     "name": "stdout",
     "output_type": "stream",
     "text": [
      "Please input a number: 56\n",
      "Your number is less than 100\n"
     ]
    }
   ],
   "source": [
    "num = float(input('Please input a number: '))\n",
    "\n",
    "if num > 100:\n",
    "    print('Your number is greater than 100')\n",
    "elif num < 100:\n",
    "    print('Your number is less than 100')\n",
    "elif num == 100:\n",
    "    print('Your number is equal to 100')"
   ]
  },
  {
   "cell_type": "code",
   "execution_count": 2,
   "metadata": {},
   "outputs": [
    {
     "name": "stdout",
     "output_type": "stream",
     "text": [
      "lower\n"
     ]
    }
   ],
   "source": [
    "x, y = 5, 10\n",
    "\n",
    "if x > y:\n",
    "    print('greater')\n",
    "elif x < y:\n",
    "    print('lower')"
   ]
  },
  {
   "cell_type": "markdown",
   "metadata": {},
   "source": [
    "# Else Statements"
   ]
  },
  {
   "cell_type": "code",
   "execution_count": 21,
   "metadata": {},
   "outputs": [
    {
     "name": "stdout",
     "output_type": "stream",
     "text": [
      "Hello Nishchay!\n"
     ]
    }
   ],
   "source": [
    "# using an else statement\n",
    "\n",
    "name = 'Nishchay'\n",
    "\n",
    "if name == 'Jacob':\n",
    "    print('Hello Jacob!')\n",
    "else:\n",
    "    print('Hello {}!'.format(name))"
   ]
  },
  {
   "cell_type": "code",
   "execution_count": 22,
   "metadata": {},
   "outputs": [
    {
     "name": "stdout",
     "output_type": "stream",
     "text": [
      "Name starts with a N\n"
     ]
    }
   ],
   "source": [
    "# writing a full conditional statement with if, elif, else\n",
    "\n",
    "name = 'Nishchay'\n",
    "\n",
    "if name[0] == 'A':\n",
    "    print('Name starts with an A')\n",
    "    \n",
    "elif name[0] == 'B':\n",
    "    print('Name starts with a B')\n",
    "    \n",
    "elif name[0] == 'J':\n",
    "    print('Name starts with a J')\n",
    "    \n",
    "else:                      \n",
    "    print('Name starts with a {}'.format(name[0]))"
   ]
  },
  {
   "cell_type": "markdown",
   "metadata": {},
   "source": [
    "# Thursday Exercise"
   ]
  },
  {
   "cell_type": "code",
   "execution_count": 3,
   "metadata": {},
   "outputs": [
    {
     "name": "stdout",
     "output_type": "stream",
     "text": [
      "Hello John\n"
     ]
    }
   ],
   "source": [
    "name = 'John'\n",
    "\n",
    "if name == 'Jack':\n",
    "    print('Hello Jack')\n",
    "else:\n",
    "    print('Hello John')"
   ]
  },
  {
   "cell_type": "code",
   "execution_count": 4,
   "metadata": {},
   "outputs": [
    {
     "name": "stdout",
     "output_type": "stream",
     "text": [
      "Enter time in military format, ex- 1500\n",
      "What is the time? 1360\n",
      "Good Afternoon\n"
     ]
    }
   ],
   "source": [
    "print('Enter time in military format, ex- 1500')\n",
    "time = int(input('What is the time? '))\n",
    "\n",
    "if time < 1200:\n",
    "    print('Good Morning')\n",
    "elif time >= 1200 and time < 1700:\n",
    "    print('Good Afternoon')\n",
    "elif time >= 1700:\n",
    "    print('Good Evening')"
   ]
  },
  {
   "cell_type": "markdown",
   "metadata": {},
   "source": [
    "# Friday Project: Creating a Calculator."
   ]
  },
  {
   "cell_type": "code",
   "execution_count": 24,
   "metadata": {
    "scrolled": true
   },
   "outputs": [
    {
     "name": "stdout",
     "output_type": "stream",
     "text": [
      "Would you like to add/substract/multiply/divide? add\n",
      "invalid choice\n",
      "First number: 2\n",
      "Second number: 6\n",
      "8.0\n"
     ]
    }
   ],
   "source": [
    "operation = input(\"Would you like to add/substract/multiply/divide? \")\n",
    "if operation == \"subtract\" or operation == \"divide\":\n",
    "    print(\"Please keep in mind that the order of your numbers matter.\")\n",
    "if operation != \"subtract\" or operation != \"divide\" or operation != \"add\" or operation != \"multiply\":\n",
    "    print(\"invalid choice\")\n",
    "first_number = input(\"First number: \")\n",
    "second_number = input(\"Second number: \")\n",
    "try:\n",
    "    num1, num2 = float(first_number) , float(second_number)\n",
    "    if operation == \"add\":\n",
    "        result = num1+num2\n",
    "        print(result)\n",
    "    elif operation == \"substract\":\n",
    "        result = num1-num2\n",
    "        print(result)\n",
    "    elif operation == \"multiply\":\n",
    "        result = num1*num2\n",
    "        print(result)\n",
    "    elif operation == \"divide\":\n",
    "        result = num1 / num2\n",
    "        print(result)\n",
    "except:\n",
    "    print(\"Invalid input!\")"
   ]
  },
  {
   "cell_type": "markdown",
   "metadata": {},
   "source": [
    "# End of Week Exercise"
   ]
  },
  {
   "cell_type": "code",
   "execution_count": 5,
   "metadata": {},
   "outputs": [
    {
     "name": "stdout",
     "output_type": "stream",
     "text": [
      "How old are you? 28\n",
      "Young Adult\n"
     ]
    }
   ],
   "source": [
    "age = int(input('How old are you? '))\n",
    "\n",
    "if age >= 0 and age <= 12:\n",
    "    print('Kid')\n",
    "elif age >= 13 and age <= 19:\n",
    "    print('Teenager')\n",
    "elif age >= 20 and age <= 30:\n",
    "    print('Young Adult')\n",
    "elif age >= 31 and age <= 64:\n",
    "    print('Adult')\n",
    "elif age >= 65:\n",
    "    print('Senior')"
   ]
  },
  {
   "cell_type": "code",
   "execution_count": 1,
   "metadata": {},
   "outputs": [
    {
     "name": "stdout",
     "output_type": "stream",
     "text": [
      "Make a choice Neo-\n",
      "Red pill or Blue pill\n",
      "Type r or b\n",
      "Once u take the red pill, there is no going back!! r\n",
      "Welcome to the real world.\n",
      "In this world machine control humans. You have a choice.\n",
      "1: Fight \n",
      " 2: Surrender1\n",
      "You are THE ONE !!!\n"
     ]
    }
   ],
   "source": [
    "print('Make a choice Neo-')\n",
    "print('Red pill or Blue pill')\n",
    "print('Type r or b')\n",
    "ans = input('Once u take the red pill, there is no going back!! ')\n",
    "\n",
    "if ans == 'r':\n",
    "    print('Welcome to the real world.')\n",
    "    print('In this world machine control humans. You have a choice.')\n",
    "    ans = input('1: Fight \\n 2: Surrender')\n",
    "    \n",
    "    if ans == '1':\n",
    "        print('You are THE ONE !!!')\n",
    "    elif ans == '2':\n",
    "        print('You are Dead,')\n",
    "        \n",
    "elif ans == 'b':\n",
    "    print('Welcome to the matrix.')\n"
   ]
  }
 ],
 "metadata": {
  "kernelspec": {
   "display_name": "Python 3",
   "language": "python",
   "name": "python3"
  },
  "language_info": {
   "codemirror_mode": {
    "name": "ipython",
    "version": 3
   },
   "file_extension": ".py",
   "mimetype": "text/x-python",
   "name": "python",
   "nbconvert_exporter": "python",
   "pygments_lexer": "ipython3",
   "version": "3.8.8"
  }
 },
 "nbformat": 4,
 "nbformat_minor": 4
}
