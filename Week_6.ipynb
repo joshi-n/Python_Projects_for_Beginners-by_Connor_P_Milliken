{
 "cells": [
  {
   "cell_type": "markdown",
   "metadata": {},
   "source": [
    "# DICTIONARIES"
   ]
  },
  {
   "cell_type": "code",
   "execution_count": 1,
   "metadata": {},
   "outputs": [
    {
     "name": "stdout",
     "output_type": "stream",
     "text": [
      "{'name': 'nishchay', 'age': 27}\n"
     ]
    }
   ],
   "source": [
    "# declaring a dictionary variable\n",
    "person = {\"name\" : \"nishchay joshi\"}\n",
    "customer = {\"name\":\"nishchay\", \"age\" : 27}\n",
    "print(customer)"
   ]
  },
  {
   "cell_type": "code",
   "execution_count": 2,
   "metadata": {},
   "outputs": [
    {
     "name": "stdout",
     "output_type": "stream",
     "text": [
      "nishchay\n"
     ]
    }
   ],
   "source": [
    "# accessing dictionary information through keys\n",
    "print(customer[\"name\"])"
   ]
  },
  {
   "cell_type": "code",
   "execution_count": 3,
   "metadata": {},
   "outputs": [
    {
     "name": "stdout",
     "output_type": "stream",
     "text": [
      "nishchay joshi\n",
      "Age is not available.\n"
     ]
    }
   ],
   "source": [
    "# using the get method to access dictionary information\n",
    "person = {\"name\" : \"nishchay joshi\"}\n",
    "print( person.get(\"name\") )\n",
    "print( person.get(\"age\", \"Age is not available.\") )"
   ]
  },
  {
   "cell_type": "code",
   "execution_count": 4,
   "metadata": {},
   "outputs": [
    {
     "name": "stdout",
     "output_type": "stream",
     "text": [
      "soccer\n"
     ]
    }
   ],
   "source": [
    "# storing a list within a dictionary and accessing it\n",
    "data = {\"sports\" : [\"cricket\",\"soccer\",\"badminton\"]}\n",
    "print(data[\"sports\"][1])"
   ]
  },
  {
   "cell_type": "code",
   "execution_count": 5,
   "metadata": {},
   "outputs": [
    {
     "name": "stdout",
     "output_type": "stream",
     "text": [
      "football\n"
     ]
    }
   ],
   "source": [
    "#improperly storing a list within a dictionary\n",
    "sports = [ \"baseball\", \"football\", \"hockey\", \"soccer\" ]\n",
    "sports_dict = dict( {\"sports\":sports} )\n",
    "print(sports_dict[\"sports\"][1])"
   ]
  },
  {
   "cell_type": "code",
   "execution_count": 6,
   "metadata": {},
   "outputs": [
    {
     "name": "stdout",
     "output_type": "stream",
     "text": [
      "Kirsten\n"
     ]
    }
   ],
   "source": [
    "# storing a dictionary within a list and accessing it\n",
    "data = [ \"John\", \"Dennis\", { \"name\": \"Kirsten\" } ]\n",
    "print(data[2][\"name\"])"
   ]
  },
  {
   "cell_type": "code",
   "execution_count": 7,
   "metadata": {},
   "outputs": [
    {
     "name": "stdout",
     "output_type": "stream",
     "text": [
      "108\n"
     ]
    }
   ],
   "source": [
    "# storing a dictionary within a dictionary and accessing it\n",
    "data = {\"team\": \"Boston Red Sox\",\"wins\": { \"2018\": 108, \"2017\": 93 }}\n",
    "print(data[\"wins\"][\"2018\"])"
   ]
  },
  {
   "cell_type": "markdown",
   "metadata": {},
   "source": [
    "# MONDAY EXERCISE 1"
   ]
  },
  {
   "cell_type": "code",
   "execution_count": 8,
   "metadata": {},
   "outputs": [
    {
     "name": "stdout",
     "output_type": "stream",
     "text": [
      "{'name': 'Nishchay', 'age': '28'}\n"
     ]
    }
   ],
   "source": [
    "from IPython.display import clear_output\n",
    "name = input(\"Enter your name: \")\n",
    "age = input(\"Enter your age: \")\n",
    "clear_output()\n",
    "person = {\"name\" : name, \"age\" : age}\n",
    "print(person)"
   ]
  },
  {
   "cell_type": "markdown",
   "metadata": {},
   "source": [
    "# MONDAY EXERCISE 2"
   ]
  },
  {
   "cell_type": "code",
   "execution_count": 9,
   "metadata": {},
   "outputs": [
    {
     "name": "stdout",
     "output_type": "stream",
     "text": [
      "cheese\n",
      "sausage\n",
      "peppers\n"
     ]
    }
   ],
   "source": [
    "pizza = {'ingredients': ['cheese', 'sausage', 'peppers']}\n",
    "for i in pizza[\"ingredients\"]:\n",
    "    print(i)"
   ]
  },
  {
   "cell_type": "markdown",
   "metadata": {},
   "source": [
    "# Working with Dictionaries"
   ]
  },
  {
   "cell_type": "code",
   "execution_count": 10,
   "metadata": {},
   "outputs": [
    {
     "name": "stdout",
     "output_type": "stream",
     "text": [
      "{'year': 2018, 'color': 'silver'}\n"
     ]
    }
   ],
   "source": [
    "# adding new key/value pairs to a dictionary\n",
    "car = { \"year\": 2018 }\n",
    "car[\"color\"] = \"silver\"\n",
    "print(car)"
   ]
  },
  {
   "cell_type": "code",
   "execution_count": 11,
   "metadata": {},
   "outputs": [
    {
     "name": "stdout",
     "output_type": "stream",
     "text": [
      "{'year': 2018, 'color': 'black'}\n"
     ]
    }
   ],
   "source": [
    "# updating a value for a key/value pair that already exists\n",
    "car = { \"year\": 2018, \"color\": \"Blue\" }\n",
    "car[\"color\"] = \"black\"\n",
    "print(car)"
   ]
  },
  {
   "cell_type": "code",
   "execution_count": 12,
   "metadata": {},
   "outputs": [
    {
     "name": "stdout",
     "output_type": "stream",
     "text": [
      "{'color': 'black'}\n"
     ]
    }
   ],
   "source": [
    "# deleting a key/value pair from a dictionary\n",
    "del car[\"year\"]\n",
    "print(car)"
   ]
  },
  {
   "cell_type": "code",
   "execution_count": 13,
   "metadata": {},
   "outputs": [
    {
     "name": "stdout",
     "output_type": "stream",
     "text": [
      "name John\n",
      "age 26\n"
     ]
    }
   ],
   "source": [
    "# looping over a dictionary via the key/value pair\n",
    "person = { \"name\": \"John\", \"age\": 26 }\n",
    "for key, value in person.items():\n",
    "    print(key, value)"
   ]
  },
  {
   "cell_type": "markdown",
   "metadata": {},
   "source": [
    "# TUESDAY EXERCISE 1"
   ]
  },
  {
   "cell_type": "code",
   "execution_count": 14,
   "metadata": {},
   "outputs": [
    {
     "name": "stdout",
     "output_type": "stream",
     "text": [
      "name  :  Nishchay\n",
      "address  :  Haldeani\n",
      "number  :  8782\n"
     ]
    }
   ],
   "source": [
    "person = {}\n",
    "name = input(\"Enter your name: \")\n",
    "address = input(\"Enter your address: \")\n",
    "number = input(\"Enter your number: \")\n",
    "clear_output()\n",
    "person[\"name\"] = name\n",
    "person[\"address\"] = address\n",
    "person[\"number\"] = number\n",
    "for k,v in person.items():\n",
    "    print(k,\" : \", v)"
   ]
  },
  {
   "cell_type": "markdown",
   "metadata": {},
   "source": [
    "# TUESDAY EXERCISE 2"
   ]
  },
  {
   "cell_type": "code",
   "execution_count": 15,
   "metadata": {},
   "outputs": [
    {
     "name": "stdout",
     "output_type": "stream",
     "text": [
      "John Smith\n"
     ]
    }
   ],
   "source": [
    "person = { 'name': 'John Smith' }\n",
    "print(person['name'])"
   ]
  },
  {
   "cell_type": "markdown",
   "metadata": {},
   "source": [
    "# Tuples, Sets, Frozensets"
   ]
  },
  {
   "cell_type": "code",
   "execution_count": 16,
   "metadata": {},
   "outputs": [
    {
     "name": "stdout",
     "output_type": "stream",
     "text": [
      "('hello', 2, 'hello')\n"
     ]
    },
    {
     "ename": "TypeError",
     "evalue": "'tuple' object does not support item assignment",
     "output_type": "error",
     "traceback": [
      "\u001b[0;31m---------------------------------------------------------------------------\u001b[0m",
      "\u001b[0;31mTypeError\u001b[0m                                 Traceback (most recent call last)",
      "\u001b[0;32m<ipython-input-16-7b43781b7c75>\u001b[0m in \u001b[0;36m<module>\u001b[0;34m\u001b[0m\n\u001b[1;32m      2\u001b[0m \u001b[0mt1\u001b[0m \u001b[0;34m=\u001b[0m \u001b[0;34m(\u001b[0m\u001b[0;34m\"hello\"\u001b[0m\u001b[0;34m,\u001b[0m \u001b[0;36m2\u001b[0m\u001b[0;34m,\u001b[0m \u001b[0;34m\"hello\"\u001b[0m\u001b[0;34m)\u001b[0m\u001b[0;34m\u001b[0m\u001b[0;34m\u001b[0m\u001b[0m\n\u001b[1;32m      3\u001b[0m \u001b[0mprint\u001b[0m\u001b[0;34m(\u001b[0m\u001b[0mt1\u001b[0m\u001b[0;34m)\u001b[0m\u001b[0;34m\u001b[0m\u001b[0;34m\u001b[0m\u001b[0m\n\u001b[0;32m----> 4\u001b[0;31m \u001b[0mt1\u001b[0m\u001b[0;34m[\u001b[0m\u001b[0;36m0\u001b[0m\u001b[0;34m]\u001b[0m \u001b[0;34m=\u001b[0m \u001b[0;34m\"hell\"\u001b[0m\u001b[0;34m\u001b[0m\u001b[0;34m\u001b[0m\u001b[0m\n\u001b[0m",
      "\u001b[0;31mTypeError\u001b[0m: 'tuple' object does not support item assignment"
     ]
    }
   ],
   "source": [
    "# declaring a tuple\n",
    "t1 = (\"hello\", 2, \"hello\")\n",
    "print(t1)\n",
    "t1[0] = \"hell\""
   ]
  },
  {
   "cell_type": "code",
   "execution_count": 17,
   "metadata": {},
   "outputs": [
    {
     "name": "stdout",
     "output_type": "stream",
     "text": [
      "{1, 2, 3} {4, 5}\n",
      "{1, 2, 3, 14}\n",
      "{2, 3, 14}\n"
     ]
    }
   ],
   "source": [
    "# declaring a set\n",
    "s1 = set( [1, 2, 3, 1] )\n",
    "s2 = {4, 4, 5}\n",
    "print(s1, s2)\n",
    "s1.add(14)\n",
    "print(s1)\n",
    "s1.remove(1)\n",
    "print(s1)"
   ]
  },
  {
   "cell_type": "code",
   "execution_count": 18,
   "metadata": {},
   "outputs": [
    {
     "name": "stdout",
     "output_type": "stream",
     "text": [
      "frozenset({1, 2, 3, 4})\n"
     ]
    }
   ],
   "source": [
    "# declaring a frozenset\n",
    "fs1 = frozenset([1,2,3,4])\n",
    "print(fs1)"
   ]
  },
  {
   "cell_type": "markdown",
   "metadata": {},
   "source": [
    "# WEDNESDAY EXERCISE 1"
   ]
  },
  {
   "cell_type": "code",
   "execution_count": 19,
   "metadata": {},
   "outputs": [
    {
     "name": "stdout",
     "output_type": "stream",
     "text": [
      "frozenset()\n"
     ]
    }
   ],
   "source": [
    "from IPython.display import clear_output\n",
    "ac_list = []\n",
    "add_ac = True\n",
    "while add_ac is True:\n",
    "    ac_no = str(input(\"Enter account numbers or exit: \"))\n",
    "    clear_output()\n",
    "    if ac_no == \"exit\":\n",
    "        fs = frozenset(ac_list)\n",
    "        print(fs)\n",
    "        add_ac = False\n",
    "    else:   \n",
    "        ac_list.append(ac_no)"
   ]
  },
  {
   "cell_type": "markdown",
   "metadata": {},
   "source": [
    "# WEDNESDAY EXERCISE 2"
   ]
  },
  {
   "cell_type": "code",
   "execution_count": 20,
   "metadata": {},
   "outputs": [
    {
     "name": "stdout",
     "output_type": "stream",
     "text": [
      "{10, 3, 4, 7}\n"
     ]
    }
   ],
   "source": [
    "nums = [3, 4, 3, 7, 10]\n",
    "snum = set(nums)\n",
    "print(snum)"
   ]
  },
  {
   "cell_type": "markdown",
   "metadata": {},
   "source": [
    "# Reading & Writing Files"
   ]
  },
  {
   "cell_type": "code",
   "execution_count": 21,
   "metadata": {},
   "outputs": [
    {
     "name": "stdout",
     "output_type": "stream",
     "text": [
      "this is a test\n"
     ]
    }
   ],
   "source": [
    "# opening/creating and writing to a text file\n",
    "f = open(\"test.txt\", \"w+\")\n",
    "f.write(\"this is a test\")\n",
    "f.close()\n",
    "\n",
    "# reading from a text file\n",
    "f = open(\"test.txt\", \"r\")\n",
    "data = f.read()\n",
    "f.close()\n",
    "print(data)"
   ]
  },
  {
   "cell_type": "code",
   "execution_count": 22,
   "metadata": {},
   "outputs": [],
   "source": [
    "# opening/creating and writing to a csv file\n",
    "import csv\n",
    "with open(\"test.csv\", mode=\"w\", newline=\"\") as f:\n",
    "    writer = csv.writer(f, delimiter=\",\")\n",
    "    writer.writerow([\"names\", \"city\"])\n",
    "    writer.writerow([\"nishchay\",\"haldwni\"])\n",
    "    "
   ]
  },
  {
   "cell_type": "code",
   "execution_count": 23,
   "metadata": {},
   "outputs": [
    {
     "name": "stdout",
     "output_type": "stream",
     "text": [
      "['names', 'city']\n",
      "['nishchay', 'haldwni']\n"
     ]
    }
   ],
   "source": [
    "# reading from csv files\n",
    "with open (\"test.csv\", mode = \"r\") as f:\n",
    "    reader = csv.reader(f, delimiter = \",\")\n",
    "    for row in reader:\n",
    "        print(row)"
   ]
  },
  {
   "cell_type": "markdown",
   "metadata": {},
   "source": [
    "# THURSDAY EXERCISE 1"
   ]
  },
  {
   "cell_type": "code",
   "execution_count": 24,
   "metadata": {},
   "outputs": [],
   "source": [
    "fnum = input(\"Enter your favourite number:\\t\")\n",
    "clear_output()\n",
    "f = open(\"fav_num.txt\", \"w\")\n",
    "f.write(fnum)\n",
    "f.close()"
   ]
  },
  {
   "cell_type": "markdown",
   "metadata": {},
   "source": [
    "# THURSDAY EXERCISE 2"
   ]
  },
  {
   "cell_type": "markdown",
   "metadata": {},
   "source": [
    "Using the dictionary of following data, save the information to a csv file with the keys as the headers and the values as the rows of data:"
   ]
  },
  {
   "cell_type": "code",
   "execution_count": 25,
   "metadata": {
    "scrolled": true
   },
   "outputs": [],
   "source": [
    "data = {\n",
    "    'name' : ['Dave', 'Dennis', 'Peter', \"Jess\"],\n",
    "    'language' : ['Python', 'C', 'Java', 'Python']\n",
    "}\n",
    "\n",
    "import csv\n",
    "\n",
    "with open('data.csv', mode='w', newline='') as f:\n",
    "    writer = csv.writer(f, delimiter=',')\n",
    "    writer.writerow(data.keys())\n",
    "    \n",
    "    for i in range(len(data['name'])):\n",
    "        writer.writerow([data['name'][i], data['language'][i]])"
   ]
  },
  {
   "cell_type": "markdown",
   "metadata": {
    "collapsed": true
   },
   "source": [
    "# Friday project: Creating a User Database with CSV Files"
   ]
  },
  {
   "cell_type": "code",
   "execution_count": 26,
   "metadata": {},
   "outputs": [],
   "source": [
    "from IPython.display import clear_output\n",
    "import csv\n",
    "\n",
    "def register_user():\n",
    "    with open (\"user.csv\", mode=\"a+\") as f:\n",
    "        writer = csv.writer(f, delimiter=\",\")\n",
    "        print(\"To register enter your details.\")\n",
    "        email = input(\"Enter e-mail: \")\n",
    "        password = input(\"Enter password: \")\n",
    "        password2 = input(\"Re-enter password: \")\n",
    "        clear_output()\n",
    "        reader = csv.reader(f, delimiter=\",\")\n",
    "        if password == password2:\n",
    "            writer.writerow([email, password])\n",
    "            print(\"User registered.\")\n",
    "        else:\n",
    "            print(\"Passwords did not match! Try again\")\n",
    "            \n",
    "def user_login():\n",
    "    print(\"Enter details to login.\")\n",
    "    email = input(\"Enter e-mail: \")\n",
    "    password = input(\"Enter password: \")\n",
    "    clear_output()\n",
    "    with open (\"user.csv\", mode=\"r\") as f:\n",
    "        reader = csv.reader(f, delimiter=\",\")\n",
    "        for row in reader:\n",
    "            if row == [email, password]:\n",
    "                print(\"Login successful.\")\n",
    "                return True\n",
    "            else:\n",
    "                print(\"Something went wrong, try again. New users first register.\")\n",
    "                return False\n",
    "\n",
    "# Main loop\n",
    "active = True\n",
    "logged_in = False\n",
    "while active:\n",
    "    if logged_in:\n",
    "        print(\"1. Logout\\n2. Quit\")\n",
    "    else:\n",
    "        print(\"1. Login\\n2. Register\\n3. Quit\")\n",
    "    choice = input(\"What would you like to do?\")\n",
    "    choice = choice.lower()\n",
    "    clear_output()\n",
    "    if choice == \"quit\":\n",
    "        active = False\n",
    "    elif choice == \"register\":\n",
    "        register_user()\n",
    "    elif choice == \"login\":\n",
    "        logged_in = user_login()\n",
    "    elif choice == \"logout\" and logged_in == True:\n",
    "        logged_in = False\n",
    "        print(\"user logged out.\")\n",
    "        "
   ]
  },
  {
   "cell_type": "markdown",
   "metadata": {},
   "source": [
    "# End of Week Exercises - Answers"
   ]
  },
  {
   "cell_type": "code",
   "execution_count": 27,
   "metadata": {},
   "outputs": [],
   "source": [
    "from IPython.display import clear_output\n",
    "import csv\n",
    "\n",
    "def changePassword():\n",
    "    \n",
    "    email = input('Please confirm your e-mail: ')\n",
    "    password = input('Please confirm your current password: ')\n",
    "    \n",
    "    emails = []\n",
    "    passwords = []\n",
    "    found = False\n",
    "\n",
    "    with open('user.csv', mode='r') as f:\n",
    "        reader = csv.reader(f, delimiter=',')\n",
    "        \n",
    "        for row in reader:\n",
    "            if row == [email, password]:\n",
    "                found = True\n",
    "            elif row:\n",
    "                emails.append(row[0])\n",
    "                passwords.append(row[1])\n",
    "    \n",
    "    if found:\n",
    "        new_pass = input('What would you like to change your password to? ')\n",
    "        \n",
    "        emails.append(email)\n",
    "        passwords.append(new_pass)\n",
    "        \n",
    "        with open('users.csv', mode='w') as f:\n",
    "            writer = csv.writer(f, delimiter=',')\n",
    "            \n",
    "            for i in range(len(emails)):\n",
    "                writer.writerow([emails[i], passwords[i]])\n",
    "    else:\n",
    "        print('Sorry those credentials were incorrect.')\n",
    "\n",
    "\n",
    "def register_user():\n",
    "    with open (\"user.csv\", mode=\"a+\") as f:\n",
    "        writer = csv.writer(f, delimiter=\",\")\n",
    "        print(\"To register enter your details.\")\n",
    "        email = input(\"Enter e-mail: \")\n",
    "        password = input(\"Enter password: \")\n",
    "        password2 = input(\"Re-enter password: \")\n",
    "        clear_output()\n",
    "        reader = csv.reader(f, delimiter=\",\")\n",
    "        if password == password2:\n",
    "            writer.writerow([email, password])\n",
    "            print(\"User registered.\")\n",
    "        else:\n",
    "            print(\"Passwords did not match! Try again\")\n",
    "            \n",
    "def user_login():\n",
    "    print(\"Enter details to login.\")\n",
    "    email = input(\"Enter e-mail: \")\n",
    "    password = input(\"Enter password: \")\n",
    "    clear_output()\n",
    "    with open (\"user.csv\", mode=\"r\") as f:\n",
    "        reader = csv.reader(f, delimiter=\",\")\n",
    "        for row in reader:\n",
    "            if row == [email, password]:\n",
    "                print(\"Login successful.\")\n",
    "                return True\n",
    "    \n",
    "    print('Something went wrong, try again. New users register first')\n",
    "    return False\n",
    "\n",
    "# Main loop\n",
    "active = True\n",
    "logged_in = False\n",
    "while active:\n",
    "    if logged_in:\n",
    "        print('1. Logout\\n2. Change Password\\n3. Quit')\n",
    "    else:\n",
    "        print(\"1. Login\\n2. Register\\n3. Quit\")\n",
    "    choice = input(\"What would you like to do?\")\n",
    "    choice = choice.lower()\n",
    "    clear_output()\n",
    "    if choice == \"quit\":\n",
    "        active = False\n",
    "    elif choice == \"register\":\n",
    "        register_user()\n",
    "    elif choice == \"login\":\n",
    "        logged_in = user_login()\n",
    "    elif choice == \"logout\" and logged_in == True:\n",
    "        logged_in = False\n",
    "    elif choice == 'change password' and logged_in == True:\n",
    "        changePassword()\n",
    "        print(\"user logged out.\")\n",
    "        "
   ]
  },
  {
   "cell_type": "code",
   "execution_count": 28,
   "metadata": {},
   "outputs": [
    {
     "name": "stdout",
     "output_type": "stream",
     "text": [
      "Here are the results so far...\n",
      "burger: 1\n",
      "pizza: 1\n"
     ]
    }
   ],
   "source": [
    "from IPython.display import clear_output\n",
    "import csv\n",
    "\n",
    "def saveFood():\n",
    "    ans = input('What is your favorite food? ')\n",
    "    \n",
    "    with open('favorite_food.csv', mode='a', newline='') as f:\n",
    "        writer = csv.writer(f, delimiter=',')\n",
    "        \n",
    "        writer.writerow([ans])\n",
    "    \n",
    "    print('Food added!')\n",
    "    \n",
    "def countFood():\n",
    "    food_count = {}\n",
    "    \n",
    "    with open('favorite_food.csv', mode='r') as f:\n",
    "        reader = csv.reader(f, delimiter=',')\n",
    "        \n",
    "        for row in reader:\n",
    "            if row[0].lower() in food_count:\n",
    "                food_count[row[0].lower()] += 1\n",
    "            else:\n",
    "                food_count[row[0].lower()] = 1\n",
    "                \n",
    "    return food_count\n",
    "\n",
    "def main():\n",
    "    while input('Would you like to add more? ').lower() != 'no':\n",
    "        saveFood()\n",
    "        \n",
    "    clear_output()\n",
    "    \n",
    "    print('Here are the results so far...')\n",
    "    \n",
    "    food_count = countFood()\n",
    "    \n",
    "    for k, v in food_count.items():\n",
    "        print(\"{}: {}\".format(k, v))\n",
    "        \n",
    "main()"
   ]
  }
 ],
 "metadata": {
  "kernelspec": {
   "display_name": "Python 3",
   "language": "python",
   "name": "python3"
  },
  "language_info": {
   "codemirror_mode": {
    "name": "ipython",
    "version": 3
   },
   "file_extension": ".py",
   "mimetype": "text/x-python",
   "name": "python",
   "nbconvert_exporter": "python",
   "pygments_lexer": "ipython3",
   "version": "3.8.8"
  }
 },
 "nbformat": 4,
 "nbformat_minor": 4
}
