{
 "cells": [
  {
   "cell_type": "markdown",
   "metadata": {},
   "source": [
    "# Lists"
   ]
  },
  {
   "cell_type": "code",
   "execution_count": 1,
   "metadata": {},
   "outputs": [
    {
     "name": "stdout",
     "output_type": "stream",
     "text": [
      "[5, 10, 15.2, 20]\n"
     ]
    }
   ],
   "source": [
    "# declaring a list of numbers\n",
    "nums = [5, 10, 15.2, 20]\n",
    "print(nums)"
   ]
  },
  {
   "cell_type": "code",
   "execution_count": 2,
   "metadata": {},
   "outputs": [
    {
     "name": "stdout",
     "output_type": "stream",
     "text": [
      "10\n"
     ]
    }
   ],
   "source": [
    "print(nums[1])"
   ]
  },
  {
   "cell_type": "code",
   "execution_count": 3,
   "metadata": {},
   "outputs": [
    {
     "name": "stdout",
     "output_type": "stream",
     "text": [
      "[4.3, 'word', True]\n"
     ]
    }
   ],
   "source": [
    "# declaring a list of mixed data types\n",
    "num = 4.3\n",
    "data = [num, \"word\", True]\n",
    "print(data)"
   ]
  },
  {
   "cell_type": "code",
   "execution_count": 4,
   "metadata": {},
   "outputs": [
    {
     "name": "stdout",
     "output_type": "stream",
     "text": [
      "[5, 'book', [34, 'hello'], True]\n",
      "[34, 'hello']\n"
     ]
    }
   ],
   "source": [
    "# understanding lists within lists\n",
    "data = [5, \"book\", [ 34, \"hello\" ], True]\n",
    "print(data)\n",
    "print(data[2])"
   ]
  },
  {
   "cell_type": "code",
   "execution_count": 5,
   "metadata": {},
   "outputs": [
    {
     "name": "stdout",
     "output_type": "stream",
     "text": [
      "34\n"
     ]
    }
   ],
   "source": [
    "print(data[2][0])"
   ]
  },
  {
   "cell_type": "code",
   "execution_count": 6,
   "metadata": {},
   "outputs": [
    {
     "name": "stdout",
     "output_type": "stream",
     "text": [
      "[5, 10, 15, 20]\n",
      "[100, 10, 15, 20]\n"
     ]
    }
   ],
   "source": [
    "# changing values in a list through index\n",
    "data = [5, 10, 15, 20]\n",
    "print(data)\n",
    "data[0] = 100\n",
    "print(data)"
   ]
  },
  {
   "cell_type": "code",
   "execution_count": 7,
   "metadata": {},
   "outputs": [
    {
     "name": "stdout",
     "output_type": "stream",
     "text": [
      "a: [5, 10]\t b: [5, 10]\n",
      "Location a[0]: 4442229216\t Location b[0]: 4442229216\n",
      "a:[20, 10]\t b: [20, 10]\n"
     ]
    }
   ],
   "source": [
    "# understanding how lists are stored\n",
    "a = [5, 10]\n",
    "b = a\n",
    "print(f\"a: {a}\\t b: {b}\")\n",
    "print( f\"Location a[0]: {id(a[0]) }\\t Location b[0]: {id(b[0])}\")\n",
    "a[0] = 20 # re-declaring the value of a[0] also changes b[0]\n",
    "print(f\"a:{ a}\\t b: { b}\")"
   ]
  },
  {
   "cell_type": "code",
   "execution_count": 8,
   "metadata": {},
   "outputs": [
    {
     "name": "stdout",
     "output_type": "stream",
     "text": [
      "[1, 10, 15, 20] [2, 10, 15, 20] [3, 10, 15, 20]\n"
     ]
    }
   ],
   "source": [
    "#copying lists\n",
    "data = [5, 10, 15, 20]\n",
    "data_copy = data[:]\n",
    "data_copy1 = data.copy()\n",
    "data[0]=1\n",
    "data_copy[0] = 2\n",
    "data_copy1[0]=3\n",
    "print(data, data_copy, data_copy1)"
   ]
  },
  {
   "cell_type": "code",
   "execution_count": 9,
   "metadata": {},
   "outputs": [
    {
     "name": "stdout",
     "output_type": "stream",
     "text": [
      "I like to play cricket\n",
      "I like to play soccer\n",
      "I like to play basketball\n"
     ]
    }
   ],
   "source": [
    "#Monday exercise 1\n",
    "sports = [\"cricket\", \"soccer\", \"basketball\"]\n",
    "print(f\"I like to play {sports[0]}\")\n",
    "print(f\"I like to play {sports[1]}\")\n",
    "print(f\"I like to play {sports[2]}\")"
   ]
  },
  {
   "cell_type": "code",
   "execution_count": 10,
   "metadata": {},
   "outputs": [
    {
     "name": "stdout",
     "output_type": "stream",
     "text": [
      "J A S K\n"
     ]
    }
   ],
   "source": [
    "#Monday exercise 2\n",
    "names = [\"John\", \"Abraham\", \"Sam\", \"Kelly\"]\n",
    "print(names[0][0], names[1][0], names[2][0], names[3][0])"
   ]
  },
  {
   "cell_type": "markdown",
   "metadata": {},
   "source": [
    "# For Loops"
   ]
  },
  {
   "cell_type": "code",
   "execution_count": 11,
   "metadata": {},
   "outputs": [
    {
     "name": "stdout",
     "output_type": "stream",
     "text": [
      "Value: 0\n",
      "Value: 1\n",
      "Value: 2\n",
      "Value: 3\n",
      "Value: 4\n"
     ]
    }
   ],
   "source": [
    "# writing your first for loop using range\n",
    "for num in range(5):\n",
    "    print(f\"Value: {num }\")"
   ]
  },
  {
   "cell_type": "code",
   "execution_count": 12,
   "metadata": {},
   "outputs": [
    {
     "name": "stdout",
     "output_type": "stream",
     "text": [
      "Value: 2\n",
      "Value: 4\n",
      "Value: 6\n",
      "Value: 8\n"
     ]
    }
   ],
   "source": [
    "# providing the start, stop, and step for the range function\n",
    "for num in range(2, 10, 2):\n",
    "    print( f\"Value: {num}\") # will print all evens between 2 and 10"
   ]
  },
  {
   "cell_type": "code",
   "execution_count": 13,
   "metadata": {},
   "outputs": [
    {
     "name": "stdout",
     "output_type": "stream",
     "text": [
      "Value: J\n",
      "Value: o\n",
      "Value: h\n",
      "Value: n\n",
      "Value:  \n",
      "Value: S\n",
      "Value: m\n",
      "Value: i\n",
      "Value: t\n",
      "Value: h\n"
     ]
    }
   ],
   "source": [
    "# printing all characters in a name using the 'in' keyword\n",
    "name = \"John Smith\"\n",
    "for letter in name:\n",
    "    print( f\"Value: {letter}\")"
   ]
  },
  {
   "cell_type": "code",
   "execution_count": 14,
   "metadata": {},
   "outputs": [
    {
     "name": "stdout",
     "output_type": "stream",
     "text": [
      "0\n",
      "1\n",
      "2\n",
      "4\n"
     ]
    }
   ],
   "source": [
    "# using the continue statement within a foor loop\n",
    "for num in range(5):\n",
    "    if num == 3:\n",
    "        continue\n",
    "    print(num)"
   ]
  },
  {
   "cell_type": "code",
   "execution_count": 15,
   "metadata": {},
   "outputs": [
    {
     "name": "stdout",
     "output_type": "stream",
     "text": [
      "0\n",
      "1\n",
      "2\n"
     ]
    }
   ],
   "source": [
    "# breaking out of a loop using the 'break' keyword\n",
    "for num in range(5):\n",
    "    if num == 3:\n",
    "        break\n",
    "    print(num)"
   ]
  },
  {
   "cell_type": "code",
   "execution_count": 16,
   "metadata": {},
   "outputs": [],
   "source": [
    "# setting a placeholder using the 'pass' keyword\n",
    "for i in range(5):\n",
    "    pass"
   ]
  },
  {
   "cell_type": "code",
   "execution_count": 17,
   "metadata": {},
   "outputs": [
    {
     "name": "stdout",
     "output_type": "stream",
     "text": [
      "3\n",
      "6\n",
      "9\n",
      "12\n",
      "15\n",
      "18\n",
      "21\n",
      "24\n",
      "27\n",
      "30\n",
      "33\n",
      "36\n",
      "39\n",
      "42\n",
      "45\n",
      "48\n",
      "51\n",
      "54\n",
      "57\n",
      "60\n",
      "63\n",
      "66\n",
      "69\n",
      "72\n",
      "75\n",
      "78\n",
      "81\n",
      "84\n",
      "87\n",
      "90\n",
      "93\n",
      "96\n",
      "99\n"
     ]
    }
   ],
   "source": [
    "# Tuesday Exercises 1\n",
    "for num in range(3,101,3):\n",
    "    print(num)"
   ]
  },
  {
   "cell_type": "code",
   "execution_count": 18,
   "metadata": {
    "scrolled": true,
    "tags": [
     "incomplete"
    ]
   },
   "outputs": [
    {
     "name": "stdout",
     "output_type": "stream",
     "text": [
      "Type a word:\tlafayette\n",
      "a\n",
      "a\n",
      "e\n",
      "e\n"
     ]
    }
   ],
   "source": [
    "# Tuesday Exercises 2\n",
    "word = input(\"Type a word:\\t\")\n",
    "for vowel in word:\n",
    "    if vowel == \"a\":\n",
    "        print(\"a\")\n",
    "    if vowel ==\"e\":\n",
    "        print(\"e\")\n",
    "    if vowel ==\"i\":\n",
    "        print(\"i\")\n",
    "    if vowel ==\"o\":\n",
    "        print(\"o\")\n",
    "    if vowel ==\"u\":\n",
    "        print(\"u\")"
   ]
  },
  {
   "cell_type": "markdown",
   "metadata": {},
   "source": [
    "# While loops"
   ]
  },
  {
   "cell_type": "code",
   "execution_count": 19,
   "metadata": {},
   "outputs": [
    {
     "name": "stdout",
     "output_type": "stream",
     "text": [
      "10\n",
      "9\n",
      "8\n",
      "7\n",
      "6\n",
      "5\n",
      "4\n",
      "3\n",
      "2\n",
      "1\n"
     ]
    }
   ],
   "source": [
    "# writing your first while loop\n",
    "health = 10\n",
    "while health > 0:\n",
    "    print(health)\n",
    "    health= health-1"
   ]
  },
  {
   "cell_type": "code",
   "execution_count": 20,
   "metadata": {},
   "outputs": [
    {
     "name": "stdout",
     "output_type": "stream",
     "text": [
      "Enter something: table\n",
      "Enter something: quit\n"
     ]
    }
   ],
   "source": [
    "# Wednesday exercise 1\n",
    "while input('Enter something: ').lower() != 'quit':\n",
    "    pass"
   ]
  },
  {
   "cell_type": "code",
   "execution_count": 21,
   "metadata": {},
   "outputs": [
    {
     "name": "stdout",
     "output_type": "stream",
     "text": [
      "0\n",
      "1\n",
      "2\n"
     ]
    }
   ],
   "source": [
    "# Wednesday exercise 2\n",
    "game_over = False\n",
    "while game_over != True:\n",
    "    for x in range(0,5):\n",
    "        if x == 3:\n",
    "            game_over = True\n",
    "            break\n",
    "        print(x)"
   ]
  },
  {
   "cell_type": "markdown",
   "metadata": {},
   "source": [
    "# Working with Lists"
   ]
  },
  {
   "cell_type": "code",
   "execution_count": 22,
   "metadata": {},
   "outputs": [
    {
     "name": "stdout",
     "output_type": "stream",
     "text": [
      "3\n"
     ]
    }
   ],
   "source": [
    "# checking the number of items within a list\n",
    "nums = [5, 10, 15]\n",
    "length = len(nums)\n",
    "print(length)"
   ]
  },
  {
   "cell_type": "code",
   "execution_count": 23,
   "metadata": {},
   "outputs": [
    {
     "name": "stdout",
     "output_type": "stream",
     "text": [
      "[10, 15]\n"
     ]
    }
   ],
   "source": [
    "# accessing specific items of a list with slices\n",
    "print( nums[ 1 : 3 ] )"
   ]
  },
  {
   "cell_type": "code",
   "execution_count": 24,
   "metadata": {},
   "outputs": [
    {
     "name": "stdout",
     "output_type": "stream",
     "text": [
      "[10, 20, 5]\n"
     ]
    }
   ],
   "source": [
    "# adding an item to the back of a list using append\n",
    "nums = [10, 20]\n",
    "nums.append(5)\n",
    "print(nums)"
   ]
  },
  {
   "cell_type": "code",
   "execution_count": 25,
   "metadata": {},
   "outputs": [
    {
     "name": "stdout",
     "output_type": "stream",
     "text": [
      "[30, 10, 20, 5]\n"
     ]
    }
   ],
   "source": [
    "# adding a value to the beginning of the list\n",
    "nums.insert(0,30)\n",
    "print(nums)"
   ]
  },
  {
   "cell_type": "code",
   "execution_count": 26,
   "metadata": {},
   "outputs": [
    {
     "name": "stdout",
     "output_type": "stream",
     "text": [
      "['ball'] 5\n"
     ]
    }
   ],
   "source": [
    "# using pop to remove items and saving to a variable to use later\n",
    "items = [5, \"ball\", True]\n",
    "items.pop()\n",
    "removed_item = items.pop(0)\n",
    "print(items,removed_item)"
   ]
  },
  {
   "cell_type": "code",
   "execution_count": 27,
   "metadata": {},
   "outputs": [
    {
     "name": "stdout",
     "output_type": "stream",
     "text": [
      "['baseball', 'football', 'hockey']\n"
     ]
    }
   ],
   "source": [
    "# using the remove method with a try and except\n",
    "sports = [\"baseball\", \"soccer\", \"football\", \"hockey\"]\n",
    "try:\n",
    "    sports.remove(\"soccer\")\n",
    "    print(sports)\n",
    "except:\n",
    "    print(\"No such entry\")"
   ]
  },
  {
   "cell_type": "code",
   "execution_count": 28,
   "metadata": {},
   "outputs": [
    {
     "name": "stdout",
     "output_type": "stream",
     "text": [
      "Min =  3\n",
      "9\n",
      "17\n"
     ]
    }
   ],
   "source": [
    "# using min, max, and sum\n",
    "nums = [5, 3, 9]\n",
    "print(\"Min = \", min(nums))\n",
    "print(max(nums))\n",
    "print(sum(nums))"
   ]
  },
  {
   "cell_type": "code",
   "execution_count": 29,
   "metadata": {},
   "outputs": [
    {
     "name": "stdout",
     "output_type": "stream",
     "text": [
      "[0, 2, 5, 8]\n",
      "['d', 's', 'u', 'y']\n",
      "[5, 8, 0, 2]\n",
      "['d', 'y', 's', 'u']\n"
     ]
    }
   ],
   "source": [
    "# using sorted on lists for numerical and alphabetical data\n",
    "nums = [5, 8, 0, 2]\n",
    "letters = [\"d\", \"y\", \"s\", \"u\"]\n",
    "print(sorted(nums))\n",
    "print(sorted(letters))\n",
    "print (nums)\n",
    "print(letters)"
   ]
  },
  {
   "cell_type": "code",
   "execution_count": 30,
   "metadata": {},
   "outputs": [
    {
     "name": "stdout",
     "output_type": "stream",
     "text": [
      "[0, 2, 5, 8]\n",
      "['d', 's', 'u', 'y']\n"
     ]
    }
   ],
   "source": [
    "# sorting a list with .sort() in-place\n",
    "nums.sort()\n",
    "print(nums)\n",
    "letters.sort()\n",
    "print(letters)"
   ]
  },
  {
   "cell_type": "code",
   "execution_count": 31,
   "metadata": {},
   "outputs": [
    {
     "name": "stdout",
     "output_type": "stream",
     "text": [
      "found\n",
      "not found\n"
     ]
    }
   ],
   "source": [
    "# using conditional statements on a list\n",
    "names = [ \"Jack\", \"Robert\", \"Mary\" ]\n",
    "if \"Mary\" in names:\n",
    "    print(\"found\")\n",
    "if \"nishchay\" not in names:\n",
    "    print(\"not found\")"
   ]
  },
  {
   "cell_type": "code",
   "execution_count": 32,
   "metadata": {},
   "outputs": [
    {
     "name": "stdout",
     "output_type": "stream",
     "text": [
      "empty\n"
     ]
    }
   ],
   "source": [
    "# using conditionals to see if a list is empty\n",
    "nums = [ ]\n",
    "if nums ==[]:\n",
    "    print(\"empty\")"
   ]
  },
  {
   "cell_type": "code",
   "execution_count": 33,
   "metadata": {},
   "outputs": [
    {
     "name": "stdout",
     "output_type": "stream",
     "text": [
      "empty\n"
     ]
    }
   ],
   "source": [
    "if not nums:\n",
    "    print(\"empty\")"
   ]
  },
  {
   "cell_type": "code",
   "execution_count": 34,
   "metadata": {},
   "outputs": [
    {
     "name": "stdout",
     "output_type": "stream",
     "text": [
      "Baseball\n",
      "Hockey\n",
      "Football\n",
      "Basketball\n"
     ]
    }
   ],
   "source": [
    "# using a for loop to print all items in a list\n",
    "sports = [ \"Baseball\", \"Hockey\", \"Football\", \"Basketball\" ]\n",
    "for s in sports:\n",
    "    print(s)"
   ]
  },
  {
   "cell_type": "code",
   "execution_count": 35,
   "metadata": {},
   "outputs": [
    {
     "name": "stdout",
     "output_type": "stream",
     "text": [
      "['Jack', 'Rob', 'Bob', 'Robert']\n"
     ]
    }
   ],
   "source": [
    "# using the while loop to remove a certain value\n",
    "names = [ \"Bob\", \"Jack\", \"Rob\", \"Bob\", \"Robert\" ]\n",
    "names.remove(\"Bob\")\n",
    "print(names)"
   ]
  },
  {
   "cell_type": "code",
   "execution_count": 36,
   "metadata": {},
   "outputs": [
    {
     "name": "stdout",
     "output_type": "stream",
     "text": [
      "['Jack', 'Rob', 'Robert']\n"
     ]
    }
   ],
   "source": [
    "while \"Bob\" in names:\n",
    "    names.remove(\"Bob\")\n",
    "print(names)"
   ]
  },
  {
   "cell_type": "code",
   "execution_count": 37,
   "metadata": {},
   "outputs": [
    {
     "name": "stdout",
     "output_type": "stream",
     "text": [
      "['Amanda', 'Bob', 'Kenny']\n"
     ]
    }
   ],
   "source": [
    "# THURSDAY EXERCISE 1\n",
    "names = ['Bob', 'Kenny', 'Amanda', 'Bob', 'Kenny']\n",
    "for x in names:\n",
    "    if names.count(x) != 1:\n",
    "        names.remove(x)\n",
    "print(names)"
   ]
  },
  {
   "cell_type": "code",
   "execution_count": 38,
   "metadata": {},
   "outputs": [
    {
     "name": "stdout",
     "output_type": "stream",
     "text": [
      "Enter your name: Nishchay\n",
      "Enter your name: quit\n",
      "Bob\n",
      "Kenny\n",
      "Amanda\n",
      "Bob\n",
      "Kenny\n",
      "Nishchay\n"
     ]
    }
   ],
   "source": [
    "# THURSDAY EXERCISE 2\n",
    "names = ['Bob', 'Kenny', 'Amanda', 'Bob', 'Kenny']\n",
    "box = input(\"Enter your name: \")\n",
    "while \"quit\" not in box:\n",
    "    names.append(box)\n",
    "    box = input(\"Enter your name: \")\n",
    "for x in names:\n",
    "    print(x)"
   ]
  },
  {
   "cell_type": "markdown",
   "metadata": {},
   "source": [
    "# Friday Project: Creating Hangman."
   ]
  },
  {
   "cell_type": "code",
   "execution_count": 39,
   "metadata": {
    "scrolled": true
   },
   "outputs": [
    {
     "name": "stdout",
     "output_type": "stream",
     "text": [
      "You guessed correctly\n",
      "The word is:\tASTERN\n",
      "!!! CONGRATULATIONS !!! WINNER !!!\n"
     ]
    }
   ],
   "source": [
    "# import additional functions\n",
    "from random import choice\n",
    "from IPython.display import clear_output\n",
    "\n",
    "# declare game variables\n",
    "words = [ \"vessel\", \"compass\", \"astern\", \"ecdis\", \"doppler\" ]\n",
    "hints = [\"ship\", \"Bearing\", \"reverse\", \"map\", \"speed\"]\n",
    "word = choice(words)\n",
    "i = words.index(word)\n",
    "i = int(i)\n",
    "hint = hints[i]\n",
    "guessed, lives, game_over = [ ], 3, False\n",
    "# create a list of underscores to the length of the word\n",
    "guesses = [\"_\"] * len(word)\n",
    "\n",
    "# create main game loop\n",
    "while not game_over and lives != 0:\n",
    "    print(f\"Hint: {hint}\")\n",
    "    hidden_word = \" \".join(guesses)\n",
    "    print(f\"Word to guess {hidden_word}\")\n",
    "    print(f\"Lives = {lives}\")\n",
    "    print(f\"Letters guessed: {guessed}\")\n",
    "    ans = input(\"type quit or guess a letter:\\t\").lower()\n",
    "    clear_output()\n",
    "    if ans == \"quit\":\n",
    "        print(\"Thanks for playing\")\n",
    "        game_over = True\n",
    "    elif len(ans) > 1:\n",
    "        print(\"!!Type single letters!!\")\n",
    "    elif ans in guessed or ans in hidden_word:\n",
    "        print(\"Already guessed - Try another letter.\")\n",
    "    elif ans in word and ans not in guessed:\n",
    "        print(\"You guessed correctly\")\n",
    "        guessed.append(ans)\n",
    "        for i in range(len(word)):\n",
    "            if word[i] == ans:\n",
    "                guesses[i] = ans\n",
    "        if word == \"\".join(guesses):\n",
    "            print(f\"The word is:\\t{word.upper()}\")\n",
    "            print(\"!!! CONGRATULATIONS !!! WINNER !!!\")\n",
    "            game_over = True\n",
    "    else:\n",
    "        print(\"!!Incorrect!! you lost a life\")\n",
    "        lives = lives - 1\n",
    "        if lives == 1:\n",
    "            print(\"Last life - Choose wisely !!\")\n",
    "        if ans not in guessed:\n",
    "            guessed.append(ans)\n",
    "if lives==0:\n",
    "    print(\"!! GAME OVER!! You lost all lives\")"
   ]
  },
  {
   "cell_type": "markdown",
   "metadata": {},
   "source": [
    "# Weekly challenges 1"
   ]
  },
  {
   "cell_type": "markdown",
   "metadata": {},
   "source": [
    "num = input(\"Enter a number: \")\n",
    "num = int(num)\n",
    "print(num)\n",
    "remainder = num / 2\n",
    "\n",
    "if remainder== int(remainder):\n",
    "    print(\"even\")\n",
    "    #pyramid for loop\n",
    "    for i in range(num):\n",
    "        print(\"x\" * i)\n",
    "else:\n",
    "    print(\"odd\")"
   ]
  },
  {
   "cell_type": "code",
   "execution_count": 40,
   "metadata": {},
   "outputs": [
    {
     "name": "stdout",
     "output_type": "stream",
     "text": [
      "       \n",
      "      x \n",
      "     x x \n",
      "    x x x \n",
      "   x x x x \n",
      "  x x x x x \n"
     ]
    }
   ],
   "source": [
    "num = input(\"Enter a number: \")\n",
    "num = int(num)\n",
    "spaces = num +1\n",
    "spaces = int(spaces)\n",
    "from IPython.display import clear_output\n",
    "clear_output()\n",
    "for i in range(num):\n",
    "    print(\" \"*(spaces - i) + \"x \"*i)"
   ]
  },
  {
   "cell_type": "markdown",
   "metadata": {},
   "source": [
    "# Weekly challenges 2"
   ]
  },
  {
   "cell_type": "code",
   "execution_count": 41,
   "metadata": {},
   "outputs": [
    {
     "name": "stdout",
     "output_type": "stream",
     "text": [
      "John\n",
      "Amanda\n"
     ]
    }
   ],
   "source": [
    "names = ['John', ' ', 'Amanda', 5]\n",
    "for i in range(len(names)):\n",
    "    if names[i] == str(names[i]) and names[i] != \" \":\n",
    "        print(names[i])"
   ]
  },
  {
   "cell_type": "markdown",
   "metadata": {},
   "source": [
    "# Weekly challenges 3"
   ]
  },
  {
   "cell_type": "code",
   "execution_count": 42,
   "metadata": {},
   "outputs": [
    {
     "name": "stdout",
     "output_type": "stream",
     "text": [
      "89.6\n",
      "53.6\n",
      "111.2\n",
      "84.2\n"
     ]
    }
   ],
   "source": [
    "temps = [32, 12, 44, 29]\n",
    "for i in range(len(temps)):\n",
    "    print((9/5) * int(temps[i]) + 32)"
   ]
  }
 ],
 "metadata": {
  "kernelspec": {
   "display_name": "Python 3",
   "language": "python",
   "name": "python3"
  },
  "language_info": {
   "codemirror_mode": {
    "name": "ipython",
    "version": 3
   },
   "file_extension": ".py",
   "mimetype": "text/x-python",
   "name": "python",
   "nbconvert_exporter": "python",
   "pygments_lexer": "ipython3",
   "version": "3.8.8"
  }
 },
 "nbformat": 4,
 "nbformat_minor": 4
}
