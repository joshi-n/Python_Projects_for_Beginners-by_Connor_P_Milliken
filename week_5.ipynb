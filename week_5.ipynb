{
 "cells": [
  {
   "cell_type": "markdown",
   "metadata": {},
   "source": [
    "# creating & calling Functions"
   ]
  },
  {
   "cell_type": "code",
   "execution_count": 1,
   "metadata": {},
   "outputs": [],
   "source": [
    "def printinfo():\n",
    "    print(\"Name: Nishchay Joshi\")\n",
    "    print(\"Age: 27\")"
   ]
  },
  {
   "cell_type": "code",
   "execution_count": 2,
   "metadata": {},
   "outputs": [
    {
     "name": "stdout",
     "output_type": "stream",
     "text": [
      "Name: Nishchay Joshi\n",
      "Age: 27\n"
     ]
    }
   ],
   "source": [
    "printinfo()"
   ]
  },
  {
   "cell_type": "code",
   "execution_count": 3,
   "metadata": {},
   "outputs": [
    {
     "name": "stdout",
     "output_type": "stream",
     "text": [
      "Name: Nishchay Joshi\n",
      "Age: 27\n"
     ]
    }
   ],
   "source": [
    "printinfo()"
   ]
  },
  {
   "cell_type": "code",
   "execution_count": 4,
   "metadata": {},
   "outputs": [],
   "source": [
    "def calc():\n",
    "    x,y = 5,6\n",
    "    print(x+y)"
   ]
  },
  {
   "cell_type": "code",
   "execution_count": 5,
   "metadata": {},
   "outputs": [
    {
     "name": "stdout",
     "output_type": "stream",
     "text": [
      "11\n"
     ]
    }
   ],
   "source": [
    "calc()"
   ]
  },
  {
   "cell_type": "code",
   "execution_count": 6,
   "metadata": {},
   "outputs": [],
   "source": [
    "# MONDAY EXERCISE 1\n",
    "def myname():\n",
    "    print(\"Nishchay\")\n"
   ]
  },
  {
   "cell_type": "code",
   "execution_count": 7,
   "metadata": {},
   "outputs": [
    {
     "name": "stdout",
     "output_type": "stream",
     "text": [
      "Nishchay\n"
     ]
    }
   ],
   "source": [
    "myname()"
   ]
  },
  {
   "cell_type": "code",
   "execution_count": 8,
   "metadata": {},
   "outputs": [],
   "source": [
    "# MONDAY EXERCISE 2\n",
    "def pizza_topping():\n",
    "    print(\"I dont like pizza\")"
   ]
  },
  {
   "cell_type": "code",
   "execution_count": 9,
   "metadata": {
    "scrolled": true
   },
   "outputs": [
    {
     "name": "stdout",
     "output_type": "stream",
     "text": [
      "I dont like pizza\n",
      "I dont like pizza\n",
      "I dont like pizza\n"
     ]
    }
   ],
   "source": [
    "pizza_topping()\n",
    "pizza_topping()\n",
    "pizza_topping()"
   ]
  },
  {
   "cell_type": "markdown",
   "metadata": {},
   "source": [
    "# Parameters"
   ]
  },
  {
   "cell_type": "code",
   "execution_count": 10,
   "metadata": {},
   "outputs": [
    {
     "name": "stdout",
     "output_type": "stream",
     "text": [
      "Your name is: Nishchay Joshi\n"
     ]
    }
   ],
   "source": [
    "def print_name(name):\n",
    "    print(f\"Your name is: {name}\")\n",
    "\n",
    "print_name(\"Nishchay Joshi\")"
   ]
  },
  {
   "cell_type": "code",
   "execution_count": 11,
   "metadata": {},
   "outputs": [
    {
     "name": "stdout",
     "output_type": "stream",
     "text": [
      "Your name is: Neha\n"
     ]
    }
   ],
   "source": [
    "print_name(\"Neha\")"
   ]
  },
  {
   "cell_type": "code",
   "execution_count": 12,
   "metadata": {},
   "outputs": [],
   "source": [
    "# passing multiple parameters into a function\n",
    "def add_nums(num_1, num_2):\n",
    "    print(num_1 + num_2)"
   ]
  },
  {
   "cell_type": "code",
   "execution_count": 13,
   "metadata": {},
   "outputs": [
    {
     "name": "stdout",
     "output_type": "stream",
     "text": [
      "36\n"
     ]
    }
   ],
   "source": [
    "add_nums(7,29)"
   ]
  },
  {
   "cell_type": "code",
   "execution_count": 14,
   "metadata": {},
   "outputs": [],
   "source": [
    "# using a function to square all information\n",
    "def square(nums):\n",
    "    for num in nums:\n",
    "        print(num**2)\n",
    "numbers1 = [ 2, 4, 5, 10 ]\n",
    "numbers2 = [ 1, 3, 6 ]"
   ]
  },
  {
   "cell_type": "code",
   "execution_count": 15,
   "metadata": {},
   "outputs": [
    {
     "name": "stdout",
     "output_type": "stream",
     "text": [
      "4\n",
      "16\n",
      "25\n",
      "100\n"
     ]
    }
   ],
   "source": [
    "square(numbers1)"
   ]
  },
  {
   "cell_type": "code",
   "execution_count": 16,
   "metadata": {},
   "outputs": [],
   "source": [
    "# setting default parameter values\n",
    "def area(r, pi=3.14):\n",
    "    print(pi* (r**2))"
   ]
  },
  {
   "cell_type": "code",
   "execution_count": 17,
   "metadata": {},
   "outputs": [
    {
     "name": "stdout",
     "output_type": "stream",
     "text": [
      "12.56\n"
     ]
    }
   ],
   "source": [
    "area(2)"
   ]
  },
  {
   "cell_type": "code",
   "execution_count": 18,
   "metadata": {},
   "outputs": [],
   "source": [
    "# setting default parameter values\n",
    "def printname(first, last, middle=\"\"):\n",
    "    if middle:\n",
    "        print(f\"{first} {middle} {last}\")\n",
    "    else:\n",
    "        print(first, last)"
   ]
  },
  {
   "cell_type": "code",
   "execution_count": 19,
   "metadata": {},
   "outputs": [
    {
     "name": "stdout",
     "output_type": "stream",
     "text": [
      "nishchay joshi\n",
      "nishchay xxx joshi\n"
     ]
    }
   ],
   "source": [
    "printname(\"nishchay\", \"joshi\")\n",
    "printname(\"nishchay\", \"joshi\", \"xxx\")"
   ]
  },
  {
   "cell_type": "code",
   "execution_count": 20,
   "metadata": {},
   "outputs": [
    {
     "name": "stdout",
     "output_type": "stream",
     "text": [
      "6\n",
      "5\n"
     ]
    }
   ],
   "source": [
    "# explicity assigning values to parameters by referencing the name\n",
    "def addnums(num1, num2):\n",
    "    print(num1)\n",
    "    print(num2)\n",
    "addnums(6, num2=5)"
   ]
  },
  {
   "cell_type": "code",
   "execution_count": 21,
   "metadata": {},
   "outputs": [
    {
     "name": "stdout",
     "output_type": "stream",
     "text": [
      "(34, True, 'asdasda')\n"
     ]
    }
   ],
   "source": [
    "# using args parameter to take in a tuple of arbitrary values\n",
    "def outputData(name, *arg):\n",
    "    print(arg)\n",
    "outputData(\"Nishchay\", 34, True, \"asdasda\")"
   ]
  },
  {
   "cell_type": "code",
   "execution_count": 22,
   "metadata": {},
   "outputs": [
    {
     "name": "stdout",
     "output_type": "stream",
     "text": [
      "<class 'dict'>\n",
      "John Smith\n",
      "5\n"
     ]
    }
   ],
   "source": [
    "# using kwargs parameter to take in a dictionary of arbitrary values\n",
    "def outputData(**kwargs):\n",
    "    print( type(kwargs) )\n",
    "    print( kwargs[ \"name\" ] )\n",
    "    print( kwargs[ \"num\" ] )\n",
    "outputData(name = \"John Smith\", num = 5, b = True)"
   ]
  },
  {
   "cell_type": "code",
   "execution_count": 23,
   "metadata": {},
   "outputs": [
    {
     "name": "stdout",
     "output_type": "stream",
     "text": [
      "enter a word: ship\n",
      "False\n"
     ]
    }
   ],
   "source": [
    "#TUESDAY EXERCISE1\n",
    "word = input(\"enter a word: \")\n",
    "cword = word.upper()\n",
    "def firstword(x):\n",
    "    x= str(x)\n",
    "    if x[0] == cword[0]:\n",
    "        print(\"true\")\n",
    "    else:\n",
    "        print(False)\n",
    "firstword(word)"
   ]
  },
  {
   "cell_type": "code",
   "execution_count": 24,
   "metadata": {},
   "outputs": [
    {
     "name": "stdout",
     "output_type": "stream",
     "text": [
      "nishchay joshi\n",
      "no name passed\n"
     ]
    }
   ],
   "source": [
    "#TUESDAY EXERCISE2\n",
    "def name(first=\"\",last=\"\"):\n",
    "    if first and last:\n",
    "        print(first, last)\n",
    "    else:\n",
    "        print(\"no name passed\")\n",
    "name(\"nishchay\", \"joshi\")\n",
    "name()"
   ]
  },
  {
   "cell_type": "markdown",
   "metadata": {},
   "source": [
    "# Return Statement"
   ]
  },
  {
   "cell_type": "code",
   "execution_count": 25,
   "metadata": {},
   "outputs": [
    {
     "name": "stdout",
     "output_type": "stream",
     "text": [
      "15\n",
      "64\n"
     ]
    }
   ],
   "source": [
    "# using return keyword to return the sum of two numbers\n",
    "def addnum(num1, num2):\n",
    "    return num1 +num2\n",
    "num = addnum(6, 9)\n",
    "print(num)\n",
    "print(addnum(56,8))"
   ]
  },
  {
   "cell_type": "code",
   "execution_count": 26,
   "metadata": {},
   "outputs": [
    {
     "name": "stdout",
     "output_type": "stream",
     "text": [
      "first name: Nishchay\n",
      "lastname: Joshi\n",
      "Nishchay Joshi\n"
     ]
    }
   ],
   "source": [
    "# WEDNESDAY EXERCISE 1\n",
    "first = input(\"first name: \")\n",
    "last = input(\"lastname: \")\n",
    "def fullname(one , two):\n",
    "    print(one + \" \"+ two)\n",
    "fullname(first, last)"
   ]
  },
  {
   "cell_type": "code",
   "execution_count": 27,
   "metadata": {},
   "outputs": [
    {
     "name": "stdout",
     "output_type": "stream",
     "text": [
      "enter a word: home\n",
      "home\n"
     ]
    }
   ],
   "source": [
    "# WEDNESDAY EXERCISE 2\n",
    "def userinput():\n",
    "    x = input(\"enter a word: \")\n",
    "    return x\n",
    "asdf = userinput()\n",
    "print(asdf)"
   ]
  },
  {
   "cell_type": "markdown",
   "metadata": {},
   "source": [
    "# scope"
   ]
  },
  {
   "cell_type": "code",
   "execution_count": 28,
   "metadata": {},
   "outputs": [
    {
     "name": "stdout",
     "output_type": "stream",
     "text": [
      "13\n",
      "None\n",
      "5\n"
     ]
    }
   ],
   "source": [
    "num = 5\n",
    "def changeNum(num):\n",
    "    num += 5\n",
    "    print(num)\n",
    "print(changeNum(8))\n",
    "print(num)"
   ]
  },
  {
   "cell_type": "code",
   "execution_count": 29,
   "metadata": {},
   "outputs": [
    {
     "name": "stdout",
     "output_type": "stream",
     "text": [
      "['joshi', 'neha', 'niti']\n"
     ]
    }
   ],
   "source": [
    "# THURSDAY EXERCISE\n",
    "names = [\"nishchay\", \"neha\", \"niti\"]\n",
    "def alterlist(list, name, index):\n",
    "    list[index] = name\n",
    "alterlist(names, \"joshi\", 0)\n",
    "print(names)"
   ]
  },
  {
   "cell_type": "markdown",
   "metadata": {},
   "source": [
    "# Friday Project: Creating a Shopping Cart."
   ]
  },
  {
   "cell_type": "markdown",
   "metadata": {},
   "source": [
    "add\n",
    "remove \n",
    "clear \n",
    "show"
   ]
  },
  {
   "cell_type": "code",
   "execution_count": 30,
   "metadata": {},
   "outputs": [
    {
     "name": "stdout",
     "output_type": "stream",
     "text": [
      "Thank you for shopping.\n"
     ]
    }
   ],
   "source": [
    "# import necessary functions\n",
    "from IPython.display import clear_output\n",
    "\n",
    "# global list variable\n",
    "cart = [ ]\n",
    "functions = [\"add\",\"remove\", \"clear\", \"show\", \"quit\"]\n",
    "shopping = True\n",
    "\n",
    "# declaring function\n",
    "def addtocart(item):\n",
    "    cart.append(item)\n",
    "    \n",
    "def remove(item):\n",
    "    cart.remove(item)\n",
    "    \n",
    "def clear():\n",
    "    cart.clear()\n",
    "    \n",
    "def show():\n",
    "    print(cart)\n",
    "\n",
    "#main loop\n",
    "while shopping is True:\n",
    "    print(\"Manage your cart\")\n",
    "    function = input(\"Select function: add / remove / clear / show / quit: \")\n",
    "    clear_output()\n",
    "    if function not in functions:\n",
    "        print(\"Invalid input: Please choose the correct function.\")\n",
    "    elif function == \"add\":\n",
    "        x = True\n",
    "        while x is True:\n",
    "            item = input(\"Enter item to add :\")\n",
    "            item = str(item)\n",
    "            item = item.title()\n",
    "            clear_output()\n",
    "            if item != \"Back\":\n",
    "                addtocart(item)\n",
    "                print(f\"{item} added to cart.\")\n",
    "            else:\n",
    "                x = False\n",
    "    elif function == \"remove\":\n",
    "        item = input(\"Enter item to remove:\")\n",
    "        item = str(item)\n",
    "        item = item.title()\n",
    "        clear_output()\n",
    "        if item not in cart:\n",
    "            try:\n",
    "                index = int(item)\n",
    "                item = cart[index]\n",
    "                remove(item)\n",
    "                print(f\"{item} removed from cart.\")\n",
    "            except:\n",
    "                print(\"No such item in cart.\")\n",
    "        else:\n",
    "            remove(item)\n",
    "            print(f\"{item} removed from cart.\")\n",
    "    elif function == \"clear\":\n",
    "        if cart:\n",
    "            clear()\n",
    "            print(\"Cart emptied\")\n",
    "        else:\n",
    "            print(\"Cart already empty.\")\n",
    "    elif function == \"show\":\n",
    "        if cart:\n",
    "            print(\"\\t\\t\" + \"*\" * 50 + \"\\n\\n\\t\\t\\t\\tM.V.  LAYAFETTE BAY\\n\\t\\t\\t\\t BOND STORE - CART\\n\")\n",
    "            for i in cart:\n",
    "                num = int(cart.index(i)) + 1\n",
    "                print(f\"\\n\\t\\t\\t{num}) {i}\")\n",
    "            print(\"\\n\\n\\n\\n\\t\\t\\t !! Thank you for shopping. !!\\n\\n\\t\\t\" + \"*\" * 50)\n",
    "        else:\n",
    "            print(\"Your cart is empty\")\n",
    "    elif function == \"quit\":\n",
    "        shopping = False\n",
    "        print(\"Thank you for shopping.\")\n"
   ]
  }
 ],
 "metadata": {
  "kernelspec": {
   "display_name": "Python 3",
   "language": "python",
   "name": "python3"
  },
  "language_info": {
   "codemirror_mode": {
    "name": "ipython",
    "version": 3
   },
   "file_extension": ".py",
   "mimetype": "text/x-python",
   "name": "python",
   "nbconvert_exporter": "python",
   "pygments_lexer": "ipython3",
   "version": "3.8.8"
  }
 },
 "nbformat": 4,
 "nbformat_minor": 4
}
