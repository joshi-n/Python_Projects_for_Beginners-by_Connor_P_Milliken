{
 "cells": [
  {
   "cell_type": "markdown",
   "metadata": {},
   "source": [
    "# Creating & Instantiating a Class."
   ]
  },
  {
   "cell_type": "code",
   "execution_count": 1,
   "metadata": {},
   "outputs": [],
   "source": [
    "# creating your first class\n",
    "\n",
    "class car():\n",
    "    pass"
   ]
  },
  {
   "cell_type": "code",
   "execution_count": 2,
   "metadata": {},
   "outputs": [
    {
     "name": "stdout",
     "output_type": "stream",
     "text": [
      "<__main__.car object at 0x7f85c7f946a0>\n"
     ]
    }
   ],
   "source": [
    "# instantiating an object from a class\n",
    "ford = car()\n",
    "print(ford)"
   ]
  },
  {
   "cell_type": "code",
   "execution_count": 3,
   "metadata": {},
   "outputs": [
    {
     "name": "stdout",
     "output_type": "stream",
     "text": [
      "8763285148778\n",
      "8763285148883\n"
     ]
    }
   ],
   "source": [
    "subaru = car()\n",
    "print(hash(ford))\n",
    "print(hash(subaru))"
   ]
  },
  {
   "cell_type": "markdown",
   "metadata": {},
   "source": [
    "# MONDAY EXERCISE 1"
   ]
  },
  {
   "cell_type": "code",
   "execution_count": 4,
   "metadata": {},
   "outputs": [],
   "source": [
    "class animal():\n",
    "    pass\n",
    "lion = animal()\n",
    "tiger = animal()"
   ]
  },
  {
   "cell_type": "markdown",
   "metadata": {},
   "source": [
    "# Attributes"
   ]
  },
  {
   "cell_type": "code",
   "execution_count": 5,
   "metadata": {},
   "outputs": [
    {
     "name": "stdout",
     "output_type": "stream",
     "text": [
      "red\n"
     ]
    }
   ],
   "source": [
    "# how to define a class attribute\n",
    "class car():\n",
    "    sound = \"beep\"\n",
    "    color = \"red\"\n",
    "ford = car()\n",
    "print(ford.color)"
   ]
  },
  {
   "cell_type": "code",
   "execution_count": 6,
   "metadata": {},
   "outputs": [
    {
     "name": "stdout",
     "output_type": "stream",
     "text": [
      "beep\n"
     ]
    }
   ],
   "source": [
    "print(ford.sound)"
   ]
  },
  {
   "cell_type": "code",
   "execution_count": 7,
   "metadata": {},
   "outputs": [
    {
     "name": "stdout",
     "output_type": "stream",
     "text": [
      "honk\n"
     ]
    }
   ],
   "source": [
    "ford.sound= \"honk\"\n",
    "print(ford.sound)"
   ]
  },
  {
   "cell_type": "code",
   "execution_count": 8,
   "metadata": {},
   "outputs": [
    {
     "name": "stdout",
     "output_type": "stream",
     "text": [
      "blue\n"
     ]
    }
   ],
   "source": [
    "# using the init method to give instances personalized attributes upon creation\n",
    "class car():\n",
    "    def __init__(self, color):\n",
    "        self.color = color\n",
    "ford = car(\"blue\")\n",
    "print(ford.color)"
   ]
  },
  {
   "cell_type": "code",
   "execution_count": 9,
   "metadata": {},
   "outputs": [
    {
     "name": "stdout",
     "output_type": "stream",
     "text": [
      "blue\n",
      "1999\n"
     ]
    }
   ],
   "source": [
    "# defining different values for multiple instances\n",
    "class car():\n",
    "    def __init__ (self, year, color):\n",
    "        self.year = year\n",
    "        self.color = color\n",
    "ford = car(\"1999\", \"blue\")\n",
    "print(ford.color)\n",
    "print(ford.year)"
   ]
  },
  {
   "cell_type": "code",
   "execution_count": 10,
   "metadata": {},
   "outputs": [],
   "source": [
    "# using and accessing global class attributes\n",
    "class car():\n",
    "    color = \"red\"\n",
    "    def __init__ (self, year):\n",
    "        self.year = year"
   ]
  },
  {
   "cell_type": "code",
   "execution_count": 11,
   "metadata": {},
   "outputs": [
    {
     "name": "stdout",
     "output_type": "stream",
     "text": [
      "red\n"
     ]
    }
   ],
   "source": [
    "print(car.color)"
   ]
  },
  {
   "cell_type": "code",
   "execution_count": 12,
   "metadata": {},
   "outputs": [
    {
     "ename": "AttributeError",
     "evalue": "type object 'car' has no attribute 'year'",
     "output_type": "error",
     "traceback": [
      "\u001b[0;31m---------------------------------------------------------------------------\u001b[0m",
      "\u001b[0;31mAttributeError\u001b[0m                            Traceback (most recent call last)",
      "\u001b[0;32m<ipython-input-12-5479a5aa2bdf>\u001b[0m in \u001b[0;36m<module>\u001b[0;34m\u001b[0m\n\u001b[0;32m----> 1\u001b[0;31m \u001b[0mprint\u001b[0m\u001b[0;34m(\u001b[0m\u001b[0mcar\u001b[0m\u001b[0;34m.\u001b[0m\u001b[0myear\u001b[0m\u001b[0;34m)\u001b[0m\u001b[0;34m\u001b[0m\u001b[0;34m\u001b[0m\u001b[0m\n\u001b[0m",
      "\u001b[0;31mAttributeError\u001b[0m: type object 'car' has no attribute 'year'"
     ]
    }
   ],
   "source": [
    "print(car.year)"
   ]
  },
  {
   "cell_type": "markdown",
   "metadata": {},
   "source": [
    "# TUESDAY EXERCISE 1"
   ]
  },
  {
   "cell_type": "code",
   "execution_count": 13,
   "metadata": {},
   "outputs": [
    {
     "name": "stdout",
     "output_type": "stream",
     "text": [
      "sammi husky canine\n",
      "casey chocolate lab canine\n"
     ]
    }
   ],
   "source": [
    "class dog():\n",
    "    species = \"canine\"\n",
    "    def __init__ (self, breed, name):\n",
    "        self.name = name\n",
    "        self.breed = breed\n",
    "d1 = dog(\"husky\", \"sammi\")\n",
    "d2 = dog(\"chocolate lab\", \"casey\")\n",
    "print(d1.name, d1.breed, d1.species)\n",
    "print(d2.name, d2.breed, d2.species)"
   ]
  },
  {
   "cell_type": "markdown",
   "metadata": {},
   "source": [
    "# TUESDAY EXERCISE 2"
   ]
  },
  {
   "cell_type": "code",
   "execution_count": 14,
   "metadata": {},
   "outputs": [
    {
     "name": "stdout",
     "output_type": "stream",
     "text": [
      "Enter your name: \n",
      "\n"
     ]
    }
   ],
   "source": [
    "class person():\n",
    "    def __init__(self,name):\n",
    "        self.name = name\n",
    "name = input(\"Enter your name: \")\n",
    "p1 = person(name)\n",
    "print(p1.name)"
   ]
  },
  {
   "cell_type": "markdown",
   "metadata": {},
   "source": [
    "# Methods"
   ]
  },
  {
   "cell_type": "code",
   "execution_count": 15,
   "metadata": {},
   "outputs": [
    {
     "name": "stdout",
     "output_type": "stream",
     "text": [
      "bark\n",
      "None\n"
     ]
    }
   ],
   "source": [
    "# defining and calling our first class method\n",
    "class dogs():\n",
    "    def makesound(self):\n",
    "        print(\"bark\")\n",
    "sam = dogs()\n",
    "print(sam.makesound())"
   ]
  },
  {
   "cell_type": "code",
   "execution_count": 16,
   "metadata": {},
   "outputs": [
    {
     "name": "stdout",
     "output_type": "stream",
     "text": [
      "bark\n"
     ]
    }
   ],
   "source": [
    "# using the self keyword to access attributes within class methods\n",
    "class dogs():\n",
    "    sound = \"bark\"\n",
    "    def makesound (self):\n",
    "        print(self.sound)\n",
    "sam = dogs( )\n",
    "sam.makesound( )"
   ]
  },
  {
   "cell_type": "code",
   "execution_count": 17,
   "metadata": {},
   "outputs": [
    {
     "name": "stdout",
     "output_type": "stream",
     "text": [
      "I am a dog\n",
      "None\n",
      "bark\n"
     ]
    }
   ],
   "source": [
    "# understanding which methods are accessible via the class itself and class instances\n",
    "class dogs():\n",
    "    def info():\n",
    "        print(\"I am a dog\")\n",
    "    def makesound(self):\n",
    "        return \"bark\"\n",
    "sam = dogs()\n",
    "print(dogs.info())\n",
    "print(sam.makesound())"
   ]
  },
  {
   "cell_type": "code",
   "execution_count": 18,
   "metadata": {},
   "outputs": [
    {
     "name": "stdout",
     "output_type": "stream",
     "text": [
      "6\n"
     ]
    }
   ],
   "source": [
    "# writing methods that accept parameters\n",
    "class dogs():\n",
    "    def age(self, age):\n",
    "        print (age)\n",
    "sam = dogs()\n",
    "sam.age(6)"
   ]
  },
  {
   "cell_type": "code",
   "execution_count": 19,
   "metadata": {},
   "outputs": [
    {
     "name": "stdout",
     "output_type": "stream",
     "text": [
      "sammi\n"
     ]
    }
   ],
   "source": [
    "# using methods to set or return attribute values, proper programming practice\n",
    "class dogs():\n",
    "    def name (self, name):\n",
    "        self.name = name\n",
    "    def setname(self,newname):\n",
    "        self.name = newname\n",
    "    def getname(self):\n",
    "        return self.name\n",
    "        \n",
    "sam= dogs()\n",
    "sam.setname(\"sammi\")\n",
    "sam.getname()\n",
    "print(sam.getname())"
   ]
  },
  {
   "cell_type": "code",
   "execution_count": 20,
   "metadata": {},
   "outputs": [
    {
     "name": "stdout",
     "output_type": "stream",
     "text": [
      "8\n"
     ]
    }
   ],
   "source": [
    "# incrementing/decrementing attribute values with methods, best programming practice\n",
    "class dogs():\n",
    "    age = 7 \n",
    "    def happybirthday(self):\n",
    "        self.age += 1\n",
    "sam = dogs()\n",
    "sam.happybirthday()\n",
    "print(sam.age)"
   ]
  },
  {
   "cell_type": "code",
   "execution_count": 21,
   "metadata": {},
   "outputs": [
    {
     "name": "stdout",
     "output_type": "stream",
     "text": [
      "5\n",
      "2\n",
      "adult\n",
      "puppy\n"
     ]
    }
   ],
   "source": [
    "# calling a class method from another method\n",
    "class dogs():\n",
    "    age=4\n",
    "    def setage(self, newage):\n",
    "        self.age = newage\n",
    "    def getage(self):\n",
    "        return self.age\n",
    "    def info(self):\n",
    "        if self.getage() >= 4:\n",
    "            return \"adult\"\n",
    "        else:\n",
    "            return \"puppy\"\n",
    "sam = dogs()\n",
    "bravo = dogs()\n",
    "sam.setage(5)\n",
    "bravo.setage(2)\n",
    "print(sam.getage())\n",
    "print(bravo.getage())\n",
    "print(sam.info())\n",
    "print(bravo.info())"
   ]
  },
  {
   "cell_type": "code",
   "execution_count": 22,
   "metadata": {},
   "outputs": [
    {
     "name": "stdout",
     "output_type": "stream",
     "text": [
      "I am a dog\n"
     ]
    }
   ],
   "source": [
    "# using magic methods\n",
    "class dogs():\n",
    "    def __str__ (self):\n",
    "        return \"I am a dog\"\n",
    "sam = dogs()\n",
    "print(sam)"
   ]
  },
  {
   "cell_type": "markdown",
   "metadata": {},
   "source": [
    "# WEDNESDAY EXERCISE 1"
   ]
  },
  {
   "cell_type": "code",
   "execution_count": 23,
   "metadata": {},
   "outputs": [
    {
     "name": "stdout",
     "output_type": "stream",
     "text": [
      "feline\n"
     ]
    }
   ],
   "source": [
    "class animal ():\n",
    "    species = None\n",
    "    def setspecies(self, species):\n",
    "        self.species = species\n",
    "    def getspecies(self):\n",
    "        return self.species\n",
    "lion = animal()\n",
    "lion.setspecies(\"feline\")\n",
    "print(lion.getspecies())\n",
    "        \n",
    "    "
   ]
  },
  {
   "cell_type": "markdown",
   "metadata": {},
   "source": [
    "# WEDNESDAY EXERCISE 2"
   ]
  },
  {
   "cell_type": "code",
   "execution_count": 24,
   "metadata": {},
   "outputs": [
    {
     "name": "stdout",
     "output_type": "stream",
     "text": [
      "Your name is  and your age is .\n"
     ]
    }
   ],
   "source": [
    "from IPython.display import clear_output\n",
    "class person():\n",
    "    name = None\n",
    "    age = 0\n",
    "    def setname_age(self,name,age):\n",
    "        self.name = name\n",
    "        self.age = age\n",
    "    def getname(self):\n",
    "        return self.name\n",
    "    def getage(self):\n",
    "        return self.age\n",
    "Name = input (\"Enter your name: \")\n",
    "Age = input (\"Enter your age: \")\n",
    "clear_output()\n",
    "p1 = person()\n",
    "p1.setname_age(Name, Age)\n",
    "print(f\"Your name is {p1.getname()} and your age is {p1.getage()}.\")"
   ]
  },
  {
   "cell_type": "markdown",
   "metadata": {},
   "source": [
    "# Inheritance\n"
   ]
  },
  {
   "cell_type": "code",
   "execution_count": 25,
   "metadata": {},
   "outputs": [
    {
     "name": "stdout",
     "output_type": "stream",
     "text": [
      "roar\n"
     ]
    }
   ],
   "source": [
    "# inheriting a class and accessing the inherited method\n",
    "class animal():\n",
    "    def makesound(self):\n",
    "        print(\"roar\")\n",
    "class dog(animal):\n",
    "    pass\n",
    "sam = dog()\n",
    "sam.makesound()"
   ]
  },
  {
   "cell_type": "code",
   "execution_count": 26,
   "metadata": {},
   "outputs": [],
   "source": [
    "# using the super( ) method to declare inherited attributes\n",
    "class animal():\n",
    "    def __init__ (self, species):\n",
    "        self.species = species\n",
    "class dog(animal):\n",
    "    def __init__(self, name, species):\n",
    "        self.name = name\n",
    "        super(). __init__(species)"
   ]
  },
  {
   "cell_type": "code",
   "execution_count": 27,
   "metadata": {},
   "outputs": [
    {
     "name": "stdout",
     "output_type": "stream",
     "text": [
      "sam\n",
      "feline\n",
      "canine\n"
     ]
    }
   ],
   "source": [
    "sam = dog(\"sam\", \"canine\")\n",
    "fox = animal(\"feline\")\n",
    "print(sam.name)\n",
    "print(fox.species)\n",
    "print(sam.species)"
   ]
  },
  {
   "cell_type": "code",
   "execution_count": 28,
   "metadata": {},
   "outputs": [
    {
     "name": "stdout",
     "output_type": "stream",
     "text": [
      "roar\n",
      "bark\n"
     ]
    }
   ],
   "source": [
    "# overriding methods defined in the superclass\n",
    "class animal():\n",
    "    def makessound(self):\n",
    "        print(\"roar\")\n",
    "class dog(animal):\n",
    "    def makessound(self):\n",
    "        print(\"bark\")\n",
    "lion = animal()\n",
    "puppy = dog()\n",
    "lion.makessound()\n",
    "puppy.makessound()"
   ]
  },
  {
   "cell_type": "code",
   "execution_count": 29,
   "metadata": {},
   "outputs": [
    {
     "name": "stdout",
     "output_type": "stream",
     "text": [
      "ford suv 2019 black\n",
      "9.8\n"
     ]
    }
   ],
   "source": [
    "# how to inherit multiple classes\n",
    "class physics():\n",
    "    gravity = 9.8\n",
    "class automobile():\n",
    "    def __init__(self, make, model,year,color):\n",
    "        self.make = make\n",
    "        self.model = model\n",
    "        self.year = year\n",
    "        self.color = color\n",
    "class ford (physics, automobile):\n",
    "    def __init__ (self, model, year, color):\n",
    "        automobile. __init__ (self, \"ford\", model, year, color)\n",
    "car = ford(\"suv\", \"2019\", \"black\")\n",
    "print(car.make, car.model, car.year, car.color)\n",
    "print(car.gravity)        "
   ]
  },
  {
   "cell_type": "markdown",
   "metadata": {},
   "source": [
    "# THURSDAY EXERCISE 1"
   ]
  },
  {
   "cell_type": "code",
   "execution_count": 30,
   "metadata": {},
   "outputs": [
    {
     "name": "stdout",
     "output_type": "stream",
     "text": [
      "Hello, my name is Max and I'm on the Good guys\n",
      "Hello, my name is Tony and I'm on the Bad guys\n"
     ]
    }
   ],
   "source": [
    "class characters():\n",
    "    def __init__ (self, name, team, height, weight):\n",
    "        self.name, self.team, self.height, self.weight = name, team, height, weight\n",
    "    def sayHello(self):\n",
    "        print(f\"Hello, my name is {self.name} and I'm on the {self.team}\")\n",
    "Max = characters (\"Max\", \"Good guys\", \"6 ft.\", \"85 Kgs\")\n",
    "Tony = characters(\"Tony\", \"Bad guys\", \"6 ft.\", \"85 Kgs\")\n",
    "Max.sayHello()\n",
    "Tony.sayHello()"
   ]
  },
  {
   "cell_type": "markdown",
   "metadata": {},
   "source": [
    "# Friday Project: Creating Blackjack."
   ]
  },
  {
   "cell_type": "code",
   "execution_count": null,
   "metadata": {},
   "outputs": [
    {
     "name": "stdout",
     "output_type": "stream",
     "text": [
      "\n",
      "\n",
      "======\n",
      "9 of Diamonds\n",
      "4 of Diamonds\n",
      "======\n",
      "Total = 13\n",
      "\n",
      "Dealer\n",
      "======\n",
      "- of -\n",
      "7 of Hearts\n",
      "======\n",
      "Total = 7\n"
     ]
    }
   ],
   "source": [
    "from random import randint\n",
    "from IPython.display import clear_output\n",
    "name = input(\"Enter Player name: \")\n",
    "class blackjack():\n",
    "    def __init__(self):\n",
    "        self.deck = [ ]\n",
    "        self.suits = (\"Spades\", \"Diamonds\", \"Hearts\", \"Clubs\")\n",
    "        self.value = (2,3,4,5,6,7,8,9,10,\"J\", \"Q\", \"K\", \"A\")\n",
    "    def makedeck(self):\n",
    "        for suits in self.suits:\n",
    "            for values in self.value:\n",
    "                self.deck.append((values,suits))\n",
    "    def pullcard(self):\n",
    "        return self.deck.pop(randint(0,len(self.deck) - 1))\n",
    "\n",
    "class player():\n",
    "    def __init__ (self, name):\n",
    "        self.hand =[]\n",
    "        self.name = name\n",
    "    clear_output() \n",
    "    def addcard(self, card):\n",
    "        self.hand.append(card)\n",
    "        \n",
    "# if not dealer's turn then only show one of his cards, otherwise show all\n",
    "    def showhand(self, dealer_start = True):\n",
    "        print( f\"\\n{self.name}\")\n",
    "        print(\"======\")\n",
    "        for i in range(len(self.hand)):\n",
    "            if self.name == \"Dealer\" and i == 0 and dealer_start:\n",
    "                print(\"- of -\")\n",
    "            else:\n",
    "                card = self.hand[i]\n",
    "                print(f\"{card[0]} of {card[1]}\")\n",
    "    \n",
    "    def calcHand(self, dealer_start=True):\n",
    "        total = 0\n",
    "        aces = 0   # calculate aces afterwards\n",
    "        card_values = {1:1, 2:2, 3:3, 4:4, 5:5, 6:6, 7:7, 8:8, 9:9, 10:10, 'J':10, 'Q':10, 'K':10, 'A':11}\n",
    "        \n",
    "        if self.name == 'Dealer' and dealer_start:\n",
    "            card = self.hand[1]\n",
    "            return card_values[card[0]]\n",
    "        \n",
    "        for card in self.hand:\n",
    "            if card[0] == 'A':\n",
    "                aces += 1\n",
    "            else:\n",
    "                total += card_values[card[0]]\n",
    "                \n",
    "        for i in range(aces):\n",
    "            if total + 11 > 21:\n",
    "                total += 1\n",
    "            else:\n",
    "                total += 11\n",
    "                \n",
    "        return total\n",
    "game = \"c\"\n",
    "while game == \"c\":\n",
    "    clear_output()\n",
    "    Player = player(name)\n",
    "    Dealer = player(\"Dealer\")\n",
    "    game = blackjack()\n",
    "    game.makedeck()\n",
    "    game.pullcard()\n",
    "    for i in range(2):\n",
    "        Player.addcard(game.pullcard())\n",
    "        Dealer.addcard(game.pullcard())\n",
    "\n",
    "    Player.showhand()\n",
    "    print(f\"======\\nTotal = {Player.calcHand()}\")\n",
    "    Dealer.showhand()\n",
    "    print(f\"======\\nTotal = {Dealer.calcHand()}\")\n",
    "\n",
    "    player_bust = False\n",
    "    while input(\"Would you like to stay or hit?\").lower( ) != \"stay\":\n",
    "        clear_output()\n",
    "        Player.addcard(game.pullcard())\n",
    "        Player.showhand()\n",
    "        print(f\"Total = {Player.calcHand()}\")\n",
    "        Dealer.showhand(False)\n",
    "        print(f\"Total = {Dealer.calcHand()}\")\n",
    "        print(Player.calcHand())\n",
    "        if Player.calcHand() > 21:\n",
    "            print(\"You Loose\")\n",
    "            player_bust = True\n",
    "            break\n",
    "\n",
    "    dealer_bust = False\n",
    "    if not player_bust:\n",
    "        while Dealer.calcHand(False) < 18:\n",
    "            Dealer.addcard(game.pullcard())\n",
    "            if Dealer.calcHand(False) > 21:\n",
    "                print(\"You Win !!\")\n",
    "                dealer_bust = True\n",
    "                break\n",
    "    clear_output()\n",
    "    Player.showhand()\n",
    "    print(f\"======\\nTotal = {Player.calcHand()}\")\n",
    "    Dealer.showhand(False)\n",
    "    print(f\"======\\nTotal = {Dealer.calcHand(False)}\")\n",
    "    print(\"\\n\\n\")\n",
    "    if player_bust:\n",
    "        print(\"You busted, Dealer wins!!\")\n",
    "    elif dealer_bust:\n",
    "        print(\"Dealer busted, you win!!\")\n",
    "    elif Dealer.calcHand(False) > Player.calcHand():\n",
    "        print(\"Dealer wins\")\n",
    "    else:\n",
    "        print(\"You win\")\n",
    "    game= input(\"Press c to continue & q to quit: \")\n",
    "    clear_output()\n",
    "    while game != \"c\" and game != \"q\":\n",
    "        print(\"Invalid response !!\")\n",
    "        game = input(\"Press c to continue & q to quit: \")\n",
    "        clear_output()\n",
    "        if game == \"q\":\n",
    "            print(\"Thank you for playing!!\")\n",
    "            break"
   ]
  },
  {
   "cell_type": "markdown",
   "metadata": {},
   "source": [
    "### End of Week Exercise 1 incorporated in the above code."
   ]
  }
 ],
 "metadata": {
  "kernelspec": {
   "display_name": "Python 3",
   "language": "python",
   "name": "python3"
  },
  "language_info": {
   "codemirror_mode": {
    "name": "ipython",
    "version": 3
   },
   "file_extension": ".py",
   "mimetype": "text/x-python",
   "name": "python",
   "nbconvert_exporter": "python",
   "pygments_lexer": "ipython3",
   "version": "3.8.8"
  }
 },
 "nbformat": 4,
 "nbformat_minor": 4
}
