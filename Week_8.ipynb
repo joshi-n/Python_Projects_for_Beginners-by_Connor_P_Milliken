{
 "cells": [
  {
   "cell_type": "markdown",
   "metadata": {},
   "source": [
    "# List Comprehension"
   ]
  },
  {
   "cell_type": "code",
   "execution_count": 1,
   "metadata": {},
   "outputs": [
    {
     "name": "stdout",
     "output_type": "stream",
     "text": [
      "[0, 1, 2, 3, 4, 5, 6, 7, 8, 9, 10, 11, 12, 13, 14, 15, 16, 17, 18, 19, 20, 21, 22, 23, 24, 25, 26, 27, 28, 29, 30, 31, 32, 33, 34, 35, 36, 37, 38, 39, 40, 41, 42, 43, 44, 45, 46, 47, 48, 49, 50, 51, 52, 53, 54, 55, 56, 57, 58, 59, 60, 61, 62, 63, 64, 65, 66, 67, 68, 69, 70, 71, 72, 73, 74, 75, 76, 77, 78, 79, 80, 81, 82, 83, 84, 85, 86, 87, 88, 89, 90, 91, 92, 93, 94, 95, 96, 97, 98, 99]\n"
     ]
    }
   ],
   "source": [
    "# create a list of ten numbers using list comprehension\n",
    "nums = [ x for x in range(100)]\n",
    "print(nums)"
   ]
  },
  {
   "cell_type": "code",
   "execution_count": 2,
   "metadata": {},
   "outputs": [
    {
     "name": "stdout",
     "output_type": "stream",
     "text": [
      "[0, 2, 4, 6, 8, 10, 12, 14, 16, 18, 20, 22, 24, 26, 28, 30, 32, 34, 36, 38, 40, 42, 44, 46, 48, 50, 52, 54, 56, 58, 60, 62, 64, 66, 68, 70, 72, 74, 76, 78, 80, 82, 84, 86, 88, 90, 92, 94, 96, 98]\n"
     ]
    }
   ],
   "source": [
    "even = [ x for x in range(100) if x % 2 == 0]\n",
    "print(even)"
   ]
  },
  {
   "cell_type": "code",
   "execution_count": 3,
   "metadata": {},
   "outputs": [
    {
     "name": "stdout",
     "output_type": "stream",
     "text": [
      "['Even', 'Odd', 'Even', 'Odd', 'Even', 'Odd', 'Even', 'Odd', 'Even', 'Odd', 'Even', 'Odd', 'Even', 'Odd', 'Even', 'Odd', 'Even', 'Odd', 'Even', 'Odd', 'Even', 'Odd', 'Even', 'Odd', 'Even', 'Odd', 'Even', 'Odd', 'Even', 'Odd', 'Even', 'Odd', 'Even', 'Odd', 'Even', 'Odd', 'Even', 'Odd', 'Even', 'Odd', 'Even', 'Odd', 'Even', 'Odd', 'Even', 'Odd', 'Even', 'Odd', 'Even', 'Odd', 'Even', 'Odd', 'Even', 'Odd', 'Even', 'Odd', 'Even', 'Odd', 'Even', 'Odd', 'Even', 'Odd', 'Even', 'Odd', 'Even', 'Odd', 'Even', 'Odd', 'Even', 'Odd', 'Even', 'Odd', 'Even', 'Odd', 'Even', 'Odd', 'Even', 'Odd', 'Even', 'Odd', 'Even', 'Odd', 'Even', 'Odd', 'Even', 'Odd', 'Even', 'Odd', 'Even', 'Odd', 'Even', 'Odd', 'Even', 'Odd', 'Even', 'Odd', 'Even', 'Odd', 'Even', 'Odd']\n"
     ]
    }
   ],
   "source": [
    "odd_even = [\"Even\" if x%2 == 0 else \"Odd\" for x in range(100)]\n",
    "print(odd_even)"
   ]
  },
  {
   "cell_type": "code",
   "execution_count": 4,
   "metadata": {},
   "outputs": [
    {
     "name": "stdout",
     "output_type": "stream",
     "text": [
      "[4, 16, 36, 64]\n"
     ]
    }
   ],
   "source": [
    "# creating a list of squared numbers from another list of numbers using list comprehension\n",
    "nums = [2, 4, 6, 8]\n",
    "sq_nums = [x**2 for x in nums]\n",
    "print(sq_nums)"
   ]
  },
  {
   "cell_type": "code",
   "execution_count": 5,
   "metadata": {},
   "outputs": [
    {
     "name": "stdout",
     "output_type": "stream",
     "text": [
      "{0: 0, 2: 4, 4: 16, 6: 36, 8: 64, 10: 100, 12: 144, 14: 196, 16: 256, 18: 324, 20: 400, 22: 484, 24: 576, 26: 676, 28: 784, 30: 900, 32: 1024, 34: 1156, 36: 1296, 38: 1444, 40: 1600, 42: 1764, 44: 1936, 46: 2116, 48: 2304, 50: 2500, 52: 2704, 54: 2916, 56: 3136, 58: 3364, 60: 3600, 62: 3844, 64: 4096, 66: 4356, 68: 4624, 70: 4900, 72: 5184, 74: 5476, 76: 5776, 78: 6084, 80: 6400, 82: 6724, 84: 7056, 86: 7396, 88: 7744, 90: 8100, 92: 8464, 94: 8836, 96: 9216, 98: 9604}\n"
     ]
    }
   ],
   "source": [
    "# creating a dictionary of even numbers and square values using comprehension\n",
    "nums = [x for x in range(100)]\n",
    "sq_num_even = {x: x**2 for x in nums if x%2 == 0}\n",
    "print(sq_num_even)"
   ]
  },
  {
   "cell_type": "markdown",
   "metadata": {},
   "source": [
    "# MONDAY EXERCISE 1"
   ]
  },
  {
   "cell_type": "markdown",
   "metadata": {},
   "source": [
    "Degree Conversion: Using list comprehension, convert the following list to Fahrenheit. Currently, the degrees are in Celsius temperatures. The conversion formula is “(9/5) * C + 32”. Your output should be [ 53.6, 69.8, 59, 89.6 ].\n",
    "\n",
    "degrees = [ 12, 21, 15, 32 ]"
   ]
  },
  {
   "cell_type": "code",
   "execution_count": 6,
   "metadata": {},
   "outputs": [
    {
     "name": "stdout",
     "output_type": "stream",
     "text": [
      "[53.6, 69.8, 59.0, 89.6]\n"
     ]
    }
   ],
   "source": [
    "degrees = [ 12, 21, 15, 32 ]\n",
    "fahn = [9/5 * x + 32 for x in degrees]\n",
    "fahn = [round(x, 1) for x in fahn ]\n",
    "print(fahn)"
   ]
  },
  {
   "cell_type": "markdown",
   "metadata": {},
   "source": [
    "User Input: Ask the user to input a single integer up to and including 100.\n",
    "Generate a list of numbers that are exactly divisible by that number up to and\n",
    "including 100 using list comprehension. For example, if the number 25 was\n",
    "input, then the output should be [ 25, 50, 75, 100 ]."
   ]
  },
  {
   "cell_type": "code",
   "execution_count": 7,
   "metadata": {},
   "outputs": [
    {
     "name": "stdout",
     "output_type": "stream",
     "text": [
      "Enter number between 1 to 100\n",
      "6\n",
      "[6, 12, 18, 24, 30, 36, 42, 48, 54, 60, 66, 72, 78, 84, 90, 96]\n"
     ]
    }
   ],
   "source": [
    "num = int(input(\"Enter number between 1 to 100\\n\"))\n",
    "nums = [x for x in range(1,101) if x % num == 0 ]\n",
    "print(nums)"
   ]
  },
  {
   "cell_type": "markdown",
   "metadata": {},
   "source": [
    "# Lambda Functions"
   ]
  },
  {
   "cell_type": "code",
   "execution_count": 8,
   "metadata": {},
   "outputs": [
    {
     "data": {
      "text/plain": [
       "4"
      ]
     },
     "execution_count": 8,
     "metadata": {},
     "output_type": "execute_result"
    }
   ],
   "source": [
    "# using a lambda to square a number\n",
    "(lambda x: x**2)(2)"
   ]
  },
  {
   "cell_type": "code",
   "execution_count": 9,
   "metadata": {},
   "outputs": [
    {
     "data": {
      "text/plain": [
       "7"
      ]
     },
     "execution_count": 9,
     "metadata": {},
     "output_type": "execute_result"
    }
   ],
   "source": [
    "(lambda x,y : x+y)(3,4)"
   ]
  },
  {
   "cell_type": "code",
   "execution_count": 10,
   "metadata": {},
   "outputs": [
    {
     "name": "stdout",
     "output_type": "stream",
     "text": [
      "4\n"
     ]
    }
   ],
   "source": [
    "# saving a lambda function into a variable\n",
    "square = lambda x : x**2\n",
    "print(square(2))"
   ]
  },
  {
   "cell_type": "code",
   "execution_count": 11,
   "metadata": {},
   "outputs": [
    {
     "name": "stdout",
     "output_type": "stream",
     "text": [
      "3\n"
     ]
    }
   ],
   "source": [
    "# using if/else statements within a lambda to return the greater number\n",
    "greater = lambda x, y: x if x >y else y\n",
    "print(greater(2,3))"
   ]
  },
  {
   "cell_type": "code",
   "execution_count": 12,
   "metadata": {},
   "outputs": [
    {
     "name": "stdout",
     "output_type": "stream",
     "text": [
      "24\n"
     ]
    }
   ],
   "source": [
    "# returning a lambda function from another function\n",
    "def my_func(n):\n",
    "    return lambda x: x*n\n",
    "double = my_func(2)\n",
    "print(double(12))\n",
    "    "
   ]
  },
  {
   "cell_type": "markdown",
   "metadata": {},
   "source": [
    "# TUESDAY EXERCISE 1"
   ]
  },
  {
   "cell_type": "markdown",
   "metadata": {},
   "source": [
    "Fill in the Blanks: Fill in the blanks for the following code so that it takes in a\n",
    "parameter of “x” and returns “True” if it is greater than 50; otherwise, it should\n",
    "return “False”:\n",
    "____ x _ True if x _ 50 ____ False"
   ]
  },
  {
   "cell_type": "code",
   "execution_count": 13,
   "metadata": {},
   "outputs": [
    {
     "data": {
      "text/plain": [
       "False"
      ]
     },
     "execution_count": 13,
     "metadata": {},
     "output_type": "execute_result"
    }
   ],
   "source": [
    "\n",
    "(lambda x : True if x > 50 else False)(3)\n"
   ]
  },
  {
   "cell_type": "markdown",
   "metadata": {},
   "source": [
    "Degree Conversion: Write a lambda function that takes in a degree value in\n",
    "Celsius and returns the degree converted into Fahrenheit."
   ]
  },
  {
   "cell_type": "code",
   "execution_count": 14,
   "metadata": {},
   "outputs": [
    {
     "name": "stdout",
     "output_type": "stream",
     "text": [
      "53.6\n"
     ]
    }
   ],
   "source": [
    "convert = lambda x : 9/5 * x +32\n",
    "print(convert(12))"
   ]
  },
  {
   "cell_type": "markdown",
   "metadata": {},
   "source": [
    "# Map, Reduce, and Filter"
   ]
  },
  {
   "cell_type": "code",
   "execution_count": 15,
   "metadata": {},
   "outputs": [
    {
     "name": "stdout",
     "output_type": "stream",
     "text": [
      "<map object at 0x7fd8f3fe2ee0>\n",
      "[54.5, 56.480000000000004, 59.0, 48.56]\n"
     ]
    }
   ],
   "source": [
    "# using the map function without lambdas\n",
    "def convertdeg(c):\n",
    "    return 9/5 * c +32\n",
    "temps = [ 12.5, 13.6, 15, 9.2 ]\n",
    "converted_temps = map(convertdeg, temps)\n",
    "print(converted_temps)\n",
    "converted_temps=list(converted_temps)\n",
    "print(converted_temps)"
   ]
  },
  {
   "cell_type": "code",
   "execution_count": 16,
   "metadata": {},
   "outputs": [
    {
     "name": "stdout",
     "output_type": "stream",
     "text": [
      "[54.5, 56.480000000000004, 59.0, 48.56]\n"
     ]
    }
   ],
   "source": [
    "# using a map function with lambdas\n",
    "temps = [ 12.5, 13.6, 15, 9.2 ]\n",
    "converted_temps = map(lambda x : 9/5 * x +32, temps)\n",
    "print(list(converted_temps))"
   ]
  },
  {
   "cell_type": "code",
   "execution_count": 17,
   "metadata": {},
   "outputs": [
    {
     "name": "stdout",
     "output_type": "stream",
     "text": [
      "[13.6, 15]\n"
     ]
    }
   ],
   "source": [
    "# using the filter function without lambda functions, filter out temps below 55F\n",
    "temps_cel = [ 12.5, 13.6, 15, 9.2 ]\n",
    "def filter_temps(c):\n",
    "    converted = 9/5 * c + 32\n",
    "    return c if converted > 55 else 0\n",
    "filtered_temps= filter(filter_temps, temps_cel)\n",
    "print(list(filtered_temps))\n"
   ]
  },
  {
   "cell_type": "code",
   "execution_count": 18,
   "metadata": {},
   "outputs": [
    {
     "name": "stdout",
     "output_type": "stream",
     "text": [
      "[13.6, 15]\n"
     ]
    }
   ],
   "source": [
    "# using the filter function with lambda functions, filter out temps below 55F\n",
    "temps = [ 12.5, 13.6, 15, 9.2 ]\n",
    "filtered_temps= filter(lambda c : True if 9/5 * c + 32 > 55 else False, temps)\n",
    "print(list(filtered_temps))"
   ]
  },
  {
   "cell_type": "code",
   "execution_count": 19,
   "metadata": {},
   "outputs": [
    {
     "name": "stdout",
     "output_type": "stream",
     "text": [
      "24\n"
     ]
    }
   ],
   "source": [
    "# for informational purposes this is how you use the reduce function \n",
    "from functools import reduce\n",
    "nums = [ 1, 2, 3, 4 ]\n",
    "reduced = reduce(lambda x,y : x *y, nums)\n",
    "print(reduced)"
   ]
  },
  {
   "cell_type": "markdown",
   "metadata": {},
   "source": [
    "# WEDNESDAY EXERCISE 1"
   ]
  },
  {
   "cell_type": "markdown",
   "metadata": {},
   "source": [
    "Mapping Names: Use a lambda and map function to map over the list of\n",
    "names in the following to produce the following result “[ “Ryan”, “Paul”,\n",
    "“Kevin Connors” ].\n",
    "\n",
    "names = [ \" ryan\", \"PAUL\", \"kevin connors \" ]"
   ]
  },
  {
   "cell_type": "code",
   "execution_count": 20,
   "metadata": {},
   "outputs": [
    {
     "name": "stdout",
     "output_type": "stream",
     "text": [
      "['Ryan', 'Paul', 'Kevin Connors ']\n"
     ]
    }
   ],
   "source": [
    "names = [ \"ryan\", \"PAUL\", \"kevin connors \" ]\n",
    "mapped = map(lambda x : str.title(x), names)\n",
    "print(list(mapped))"
   ]
  },
  {
   "cell_type": "markdown",
   "metadata": {},
   "source": [
    "# WEDNESDAY EXERCISE 2"
   ]
  },
  {
   "cell_type": "markdown",
   "metadata": {},
   "source": [
    "Filter Names: Using a lambda and filter function, filter out all the names that\n",
    "start with the letter “A.” Make it case insensitive, so it filters out the name\n",
    "whether it’s uppercase or not. The output of the following list should be\n",
    "[ “Frank”, “Ripal” ]."
   ]
  },
  {
   "cell_type": "code",
   "execution_count": 21,
   "metadata": {},
   "outputs": [
    {
     "name": "stdout",
     "output_type": "stream",
     "text": [
      "['Frank', 'Ripal']\n"
     ]
    }
   ],
   "source": [
    "names = [ \"Amanda\", \"Frank\", \"abby\", \"Ripal\", \"Adam\" ]\n",
    "filtered=filter(lambda x: False if x[0] == \"a\" or x[0] ==\"A\" else True, names)\n",
    "print(list(filtered))"
   ]
  },
  {
   "cell_type": "markdown",
   "metadata": {},
   "source": [
    "# Recursive Functions and Memoization"
   ]
  },
  {
   "cell_type": "code",
   "execution_count": 22,
   "metadata": {},
   "outputs": [
    {
     "name": "stdout",
     "output_type": "stream",
     "text": [
      "120\n"
     ]
    }
   ],
   "source": [
    "# writing a factorial using recursive functions\n",
    "def factorial(n):\n",
    "    if n <=1:\n",
    "        return 1\n",
    "    else :\n",
    "        return factorial (n-1) * n\n",
    "print(factorial(5))"
   ]
  },
  {
   "cell_type": "code",
   "execution_count": 23,
   "metadata": {},
   "outputs": [
    {
     "name": "stdout",
     "output_type": "stream",
     "text": [
      "8\n"
     ]
    }
   ],
   "source": [
    "# writing the recursive fibonacci sequence\n",
    "def fib(n):\n",
    "    if n<=1:\n",
    "        return 1\n",
    "    else:\n",
    "        return fib(n-1) + fib(n-2)\n",
    "print(fib(5))"
   ]
  },
  {
   "cell_type": "code",
   "execution_count": 24,
   "metadata": {},
   "outputs": [
    {
     "name": "stdout",
     "output_type": "stream",
     "text": [
      "20365011074\n"
     ]
    }
   ],
   "source": [
    "# using memoization with the fibonacci sequence\n",
    "cache = {}\n",
    "def fib(n):\n",
    "    if n in cache:\n",
    "        return cache[n]\n",
    "    result = 0\n",
    "    if n<=1:\n",
    "        result = 1\n",
    "    else:\n",
    "        result = fib(n-1) + fib(n-2)\n",
    "    cache[n] = result\n",
    "    return result\n",
    "print(fib(50))"
   ]
  },
  {
   "cell_type": "code",
   "execution_count": 25,
   "metadata": {},
   "outputs": [
    {
     "name": "stdout",
     "output_type": "stream",
     "text": [
      "20365011074\n"
     ]
    }
   ],
   "source": [
    "# using @lru_cache, Python’s default moization/caching technique\n",
    "from functools import lru_cache\n",
    "@lru_cache()\n",
    "def fib(n):\n",
    "    if n <= 1:\n",
    "        return 1\n",
    "    else:\n",
    "        return fib(n-1) + fib(n-2)\n",
    "print(fib(50))"
   ]
  },
  {
   "cell_type": "markdown",
   "metadata": {},
   "source": [
    "# THURSDAY EXERCISE 1"
   ]
  },
  {
   "cell_type": "markdown",
   "metadata": {},
   "source": [
    "Factorial Caching: Apply either the lru_cache built-in decorator to the factorial\n",
    "function that we created previously, or set up your own caching system."
   ]
  },
  {
   "cell_type": "code",
   "execution_count": 26,
   "metadata": {},
   "outputs": [
    {
     "name": "stdout",
     "output_type": "stream",
     "text": [
      "24\n"
     ]
    }
   ],
   "source": [
    "from functools import lru_cache\n",
    "@lru_cache()\n",
    "def factor(n):\n",
    "    if n <= 1:\n",
    "        return 1\n",
    "    else:\n",
    "        return n * n-1\n",
    "print(factor(5))"
   ]
  },
  {
   "cell_type": "markdown",
   "metadata": {},
   "source": [
    "# THURSDAY EXERCISE 2"
   ]
  },
  {
   "cell_type": "markdown",
   "metadata": {},
   "source": [
    "Searching Data: Create a function that takes in two arguments, a list of data\n",
    "and an item to search for. Search through the list of data passed in and return\n",
    "True if the item to search for appears, otherwise, return False. If one of the\n",
    "items is another list, create a recursive call so that you don’t need to create\n",
    "another loop. Use the example call in the following as a reference on what\n",
    "data to expect:\n"
   ]
  },
  {
   "cell_type": "code",
   "execution_count": 27,
   "metadata": {},
   "outputs": [
    {
     "name": "stdout",
     "output_type": "stream",
     "text": [
      "False\n"
     ]
    }
   ],
   "source": [
    "def search(x, y):\n",
    "    if y in x:\n",
    "        return True\n",
    "    elif y in x[:]:\n",
    "        return True\n",
    "    else:\n",
    "        return False\n",
    "print(search( [ 2, 3, [ 18, 22 ], 6 ], 22 ))"
   ]
  },
  {
   "cell_type": "markdown",
   "metadata": {},
   "source": [
    "# Friday Project: Writing a Binary Search"
   ]
  },
  {
   "cell_type": "code",
   "execution_count": 28,
   "metadata": {
    "scrolled": true
   },
   "outputs": [
    {
     "name": "stdout",
     "output_type": "stream",
     "text": [
      "[2, 9, 10, 17, 29, 31, 32, 45, 46, 49]\n",
      "True\n"
     ]
    }
   ],
   "source": [
    "# setting up imports and generating a list of random numbers to work with\n",
    "import random\n",
    "nums = [random.randint(0,50) for x in range (10)]\n",
    "print(sorted(nums))\n",
    "def binarysearch(alist, num):\n",
    "    alist.sort()\n",
    "    while alist :\n",
    "        mid = len(alist)//2\n",
    "        if num == alist[mid]:\n",
    "            return True\n",
    "        elif num> alist[mid]:\n",
    "            alist = alist [mid +1 :]\n",
    "        elif num < alist[mid]:\n",
    "            alist = alist [:mid]\n",
    "    return False\n",
    "    \n",
    "print(binarysearch(nums, 2))"
   ]
  },
  {
   "cell_type": "markdown",
   "metadata": {},
   "source": [
    "# End of week exercise"
   ]
  },
  {
   "cell_type": "code",
   "execution_count": 29,
   "metadata": {},
   "outputs": [
    {
     "name": "stdout",
     "output_type": "stream",
     "text": [
      "[6, 7, 10, 12, 14, 14, 14, 17, 17, 20]\n",
      "False\n"
     ]
    }
   ],
   "source": [
    "import random\n",
    "\n",
    "nums = [ random.randint(0, 20) for i in range(10) ]\n",
    "\n",
    "def binarySearch(aList, num):\n",
    "    # base case\n",
    "    if aList == []:\n",
    "        return False\n",
    "    \n",
    "    aList.sort( )\n",
    "    \n",
    "    mid = len(aList) // 2\n",
    "\n",
    "    if aList[mid] == num:\n",
    "        return True\n",
    "    elif aList[mid] > num:\n",
    "        return binarySearch(aList[ : mid ], num)\n",
    "    elif aList[mid] < num:\n",
    "        return binarySearch(aList[ mid + 1 : ], num)\n",
    "    \n",
    "print( sorted(nums) )\n",
    "print( binarySearch(nums, 3) )"
   ]
  },
  {
   "cell_type": "code",
   "execution_count": 30,
   "metadata": {},
   "outputs": [
    {
     "name": "stdout",
     "output_type": "stream",
     "text": [
      "True\n"
     ]
    }
   ],
   "source": [
    "data = [1, '45', 52453, 5, 'hi']\n",
    "\n",
    "def binarySearch(aList, num):\n",
    "    # convert data into strings\n",
    "    for i in range(len(aList)):\n",
    "        aList[i] = str(aList[i])\n",
    "        \n",
    "    # sort all strings as you could not sort strings and numbers together\n",
    "    aList.sort()\n",
    "    \n",
    "    while aList:\n",
    "        mid = len(aList) // 2\n",
    "\n",
    "        if str(aList[mid]) == str(num):\n",
    "            return True\n",
    "        elif str(aList[mid]) > str(num):\n",
    "            aList = aList[ : mid ]\n",
    "        elif str(aList[mid]) < str(num):\n",
    "            aList = aList[ mid + 1 : ]\n",
    "    \n",
    "    return False\n",
    "\n",
    "print( binarySearch(data, 'hi') )"
   ]
  }
 ],
 "metadata": {
  "kernelspec": {
   "display_name": "Python 3",
   "language": "python",
   "name": "python3"
  },
  "language_info": {
   "codemirror_mode": {
    "name": "ipython",
    "version": 3
   },
   "file_extension": ".py",
   "mimetype": "text/x-python",
   "name": "python",
   "nbconvert_exporter": "python",
   "pygments_lexer": "ipython3",
   "version": "3.8.8"
  }
 },
 "nbformat": 4,
 "nbformat_minor": 4
}
